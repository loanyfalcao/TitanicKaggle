{
 "cells": [
  {
   "cell_type": "code",
   "execution_count": 1,
   "id": "initial_id",
   "metadata": {
    "collapsed": true,
    "ExecuteTime": {
     "end_time": "2024-03-20T15:42:09.958330600Z",
     "start_time": "2024-03-20T15:42:09.918826100Z"
    }
   },
   "outputs": [],
   "source": [
    "import pandas as pd\n",
    "import seaborn as sns\n",
    "sns.set_style('whitegrid')"
   ]
  },
  {
   "cell_type": "code",
   "outputs": [
    {
     "name": "stdout",
     "output_type": "stream",
     "text": [
      "Collecting catboostNote: you may need to restart the kernel to use updated packages.\n",
      "\n",
      "  Obtaining dependency information for catboost from https://files.pythonhosted.org/packages/e8/37/3afd3c02798734efcd7840bfa872d3efc06f5d5c92f9613fea3ff5b4311f/catboost-1.2.3-cp311-cp311-win_amd64.whl.metadata\n",
      "  Downloading catboost-1.2.3-cp311-cp311-win_amd64.whl.metadata (1.2 kB)\n",
      "Collecting graphviz (from catboost)\n",
      "  Obtaining dependency information for graphviz from https://files.pythonhosted.org/packages/18/79/12d3f468cc67a04d0db640bdd54913e60cd9828e3eada107d330d760d61a/graphviz-0.20.2-py3-none-any.whl.metadata\n",
      "  Downloading graphviz-0.20.2-py3-none-any.whl.metadata (12 kB)\n",
      "Requirement already satisfied: matplotlib in c:\\users\\loany\\anaconda3\\lib\\site-packages (from catboost) (3.7.2)\n",
      "Requirement already satisfied: numpy>=1.16.0 in c:\\users\\loany\\anaconda3\\lib\\site-packages (from catboost) (1.24.3)\n",
      "Requirement already satisfied: pandas>=0.24 in c:\\users\\loany\\anaconda3\\lib\\site-packages (from catboost) (2.1.4)\n",
      "Requirement already satisfied: scipy in c:\\users\\loany\\anaconda3\\lib\\site-packages (from catboost) (1.11.4)\n",
      "Requirement already satisfied: plotly in c:\\users\\loany\\anaconda3\\lib\\site-packages (from catboost) (5.9.0)\n",
      "Requirement already satisfied: six in c:\\users\\loany\\anaconda3\\lib\\site-packages (from catboost) (1.16.0)\n",
      "Requirement already satisfied: python-dateutil>=2.8.2 in c:\\users\\loany\\anaconda3\\lib\\site-packages (from pandas>=0.24->catboost) (2.8.2)\n",
      "Requirement already satisfied: pytz>=2020.1 in c:\\users\\loany\\anaconda3\\lib\\site-packages (from pandas>=0.24->catboost) (2023.3.post1)\n",
      "Requirement already satisfied: tzdata>=2022.1 in c:\\users\\loany\\anaconda3\\lib\\site-packages (from pandas>=0.24->catboost) (2023.3)\n",
      "Requirement already satisfied: contourpy>=1.0.1 in c:\\users\\loany\\anaconda3\\lib\\site-packages (from matplotlib->catboost) (1.0.5)\n",
      "Requirement already satisfied: cycler>=0.10 in c:\\users\\loany\\anaconda3\\lib\\site-packages (from matplotlib->catboost) (0.11.0)\n",
      "Requirement already satisfied: fonttools>=4.22.0 in c:\\users\\loany\\anaconda3\\lib\\site-packages (from matplotlib->catboost) (4.25.0)\n",
      "Requirement already satisfied: kiwisolver>=1.0.1 in c:\\users\\loany\\anaconda3\\lib\\site-packages (from matplotlib->catboost) (1.4.4)\n",
      "Requirement already satisfied: packaging>=20.0 in c:\\users\\loany\\anaconda3\\lib\\site-packages (from matplotlib->catboost) (23.1)\n",
      "Requirement already satisfied: pillow>=6.2.0 in c:\\users\\loany\\anaconda3\\lib\\site-packages (from matplotlib->catboost) (10.2.0)\n",
      "Requirement already satisfied: pyparsing<3.1,>=2.3.1 in c:\\users\\loany\\anaconda3\\lib\\site-packages (from matplotlib->catboost) (3.0.9)\n",
      "Requirement already satisfied: tenacity>=6.2.0 in c:\\users\\loany\\anaconda3\\lib\\site-packages (from plotly->catboost) (8.2.2)\n",
      "Downloading catboost-1.2.3-cp311-cp311-win_amd64.whl (101.1 MB)\n",
      "   ---------------------------------------- 0.0/101.1 MB ? eta -:--:--\n",
      "   ---------------------------------------- 0.0/101.1 MB ? eta -:--:--\n",
      "   ---------------------------------------- 0.3/101.1 MB 3.9 MB/s eta 0:00:26\n",
      "    --------------------------------------- 1.4/101.1 MB 13.1 MB/s eta 0:00:08\n",
      "   - -------------------------------------- 2.8/101.1 MB 17.9 MB/s eta 0:00:06\n",
      "   - -------------------------------------- 4.4/101.1 MB 21.4 MB/s eta 0:00:05\n",
      "   -- ------------------------------------- 5.2/101.1 MB 22.4 MB/s eta 0:00:05\n",
      "   -- ------------------------------------- 5.2/101.1 MB 22.4 MB/s eta 0:00:05\n",
      "   -- ------------------------------------- 6.6/101.1 MB 19.2 MB/s eta 0:00:05\n",
      "   --- ------------------------------------ 8.5/101.1 MB 21.8 MB/s eta 0:00:05\n",
      "   ---- ----------------------------------- 11.0/101.1 MB 29.7 MB/s eta 0:00:04\n",
      "   ----- ---------------------------------- 13.2/101.1 MB 32.8 MB/s eta 0:00:03\n",
      "   ------ --------------------------------- 15.9/101.1 MB 50.4 MB/s eta 0:00:02\n",
      "   ------- -------------------------------- 18.1/101.1 MB 50.4 MB/s eta 0:00:02\n",
      "   -------- ------------------------------- 20.4/101.1 MB 50.4 MB/s eta 0:00:02\n",
      "   --------- ------------------------------ 23.7/101.1 MB 54.4 MB/s eta 0:00:02\n",
      "   ---------- ----------------------------- 26.0/101.1 MB 50.4 MB/s eta 0:00:02\n",
      "   ----------- ---------------------------- 29.0/101.1 MB 54.7 MB/s eta 0:00:02\n",
      "   ----------- ---------------------------- 29.4/101.1 MB 54.7 MB/s eta 0:00:02\n",
      "   ----------- ---------------------------- 29.4/101.1 MB 54.7 MB/s eta 0:00:02\n",
      "   ----------- ---------------------------- 29.4/101.1 MB 54.7 MB/s eta 0:00:02\n",
      "   ----------- ---------------------------- 29.4/101.1 MB 54.7 MB/s eta 0:00:02\n",
      "   ----------- ---------------------------- 29.4/101.1 MB 54.7 MB/s eta 0:00:02\n",
      "   ----------- ---------------------------- 29.4/101.1 MB 54.7 MB/s eta 0:00:02\n",
      "   ----------- ---------------------------- 29.4/101.1 MB 54.7 MB/s eta 0:00:02\n",
      "   ------------ --------------------------- 30.4/101.1 MB 19.8 MB/s eta 0:00:04\n",
      "   ------------ --------------------------- 31.5/101.1 MB 19.9 MB/s eta 0:00:04\n",
      "   ------------- -------------------------- 32.9/101.1 MB 17.7 MB/s eta 0:00:04\n",
      "   -------------- ------------------------- 35.7/101.1 MB 18.2 MB/s eta 0:00:04\n",
      "   --------------- ------------------------ 38.6/101.1 MB 18.2 MB/s eta 0:00:04\n",
      "   ---------------- ----------------------- 40.8/101.1 MB 46.7 MB/s eta 0:00:02\n",
      "   ---------------- ----------------------- 40.9/101.1 MB 43.5 MB/s eta 0:00:02\n",
      "   ---------------- ----------------------- 42.3/101.1 MB 43.5 MB/s eta 0:00:02\n",
      "   ----------------- ---------------------- 44.5/101.1 MB 38.6 MB/s eta 0:00:02\n",
      "   ------------------ --------------------- 47.1/101.1 MB 40.9 MB/s eta 0:00:02\n",
      "   ------------------ --------------------- 47.2/101.1 MB 38.6 MB/s eta 0:00:02\n",
      "   ------------------ --------------------- 47.2/101.1 MB 38.6 MB/s eta 0:00:02\n",
      "   ------------------ --------------------- 47.2/101.1 MB 38.6 MB/s eta 0:00:02\n",
      "   ------------------- -------------------- 48.2/101.1 MB 24.2 MB/s eta 0:00:03\n",
      "   ------------------- -------------------- 48.2/101.1 MB 24.2 MB/s eta 0:00:03\n",
      "   ------------------- -------------------- 49.6/101.1 MB 20.5 MB/s eta 0:00:03\n",
      "   -------------------- ------------------- 51.4/101.1 MB 24.2 MB/s eta 0:00:03\n",
      "   -------------------- ------------------- 51.4/101.1 MB 24.2 MB/s eta 0:00:03\n",
      "   -------------------- ------------------- 51.4/101.1 MB 24.2 MB/s eta 0:00:03\n",
      "   -------------------- ------------------- 51.4/101.1 MB 24.2 MB/s eta 0:00:03\n",
      "   -------------------- ------------------- 51.4/101.1 MB 24.2 MB/s eta 0:00:03\n",
      "   -------------------- ------------------- 51.4/101.1 MB 24.2 MB/s eta 0:00:03\n",
      "   -------------------- ------------------- 51.4/101.1 MB 24.2 MB/s eta 0:00:03\n",
      "   -------------------- ------------------- 51.4/101.1 MB 24.2 MB/s eta 0:00:03\n",
      "   -------------------- ------------------- 52.9/101.1 MB 13.1 MB/s eta 0:00:04\n",
      "   ---------------------- ----------------- 55.7/101.1 MB 13.4 MB/s eta 0:00:04\n",
      "   ----------------------- ---------------- 58.5/101.1 MB 19.3 MB/s eta 0:00:03\n",
      "   ----------------------- ---------------- 60.6/101.1 MB 18.7 MB/s eta 0:00:03\n",
      "   ------------------------- -------------- 63.2/101.1 MB 54.7 MB/s eta 0:00:01\n",
      "   ------------------------- -------------- 65.1/101.1 MB 50.4 MB/s eta 0:00:01\n",
      "   -------------------------- ------------- 67.3/101.1 MB 46.7 MB/s eta 0:00:01\n",
      "   --------------------------- ------------ 69.5/101.1 MB 46.7 MB/s eta 0:00:01\n",
      "   ---------------------------- ----------- 71.6/101.1 MB 46.7 MB/s eta 0:00:01\n",
      "   ----------------------------- ---------- 73.8/101.1 MB 46.7 MB/s eta 0:00:01\n",
      "   ------------------------------ --------- 75.9/101.1 MB 46.9 MB/s eta 0:00:01\n",
      "   ------------------------------ --------- 78.3/101.1 MB 46.9 MB/s eta 0:00:01\n",
      "   ------------------------------- -------- 80.5/101.1 MB 46.7 MB/s eta 0:00:01\n",
      "   -------------------------------- ------- 83.0/101.1 MB 46.7 MB/s eta 0:00:01\n",
      "   --------------------------------- ------ 84.2/101.1 MB 43.7 MB/s eta 0:00:01\n",
      "   ---------------------------------- ----- 86.4/101.1 MB 43.5 MB/s eta 0:00:01\n",
      "   ----------------------------------- ---- 89.0/101.1 MB 46.7 MB/s eta 0:00:01\n",
      "   ------------------------------------ --- 91.6/101.1 MB 46.7 MB/s eta 0:00:01\n",
      "   ------------------------------------- -- 94.1/101.1 MB 46.9 MB/s eta 0:00:01\n",
      "   -------------------------------------- - 96.4/101.1 MB 54.7 MB/s eta 0:00:01\n",
      "   ---------------------------------------  98.6/101.1 MB 54.4 MB/s eta 0:00:01\n",
      "   ---------------------------------------  98.6/101.1 MB 54.4 MB/s eta 0:00:01\n",
      "   ---------------------------------------  98.6/101.1 MB 54.4 MB/s eta 0:00:01\n",
      "   ---------------------------------------  98.6/101.1 MB 54.4 MB/s eta 0:00:01\n",
      "   ---------------------------------------  98.6/101.1 MB 54.4 MB/s eta 0:00:01\n",
      "   ---------------------------------------  98.6/101.1 MB 54.4 MB/s eta 0:00:01\n",
      "   ---------------------------------------  99.4/101.1 MB 21.9 MB/s eta 0:00:01\n",
      "   --------------------------------------  101.0/101.1 MB 21.8 MB/s eta 0:00:01\n",
      "   --------------------------------------  101.0/101.1 MB 21.8 MB/s eta 0:00:01\n",
      "   --------------------------------------  101.0/101.1 MB 21.8 MB/s eta 0:00:01\n",
      "   --------------------------------------  101.0/101.1 MB 21.8 MB/s eta 0:00:01\n",
      "   --------------------------------------  101.0/101.1 MB 21.8 MB/s eta 0:00:01\n",
      "   --------------------------------------  101.0/101.1 MB 21.8 MB/s eta 0:00:01\n",
      "   --------------------------------------  101.0/101.1 MB 21.8 MB/s eta 0:00:01\n",
      "   --------------------------------------  101.0/101.1 MB 21.8 MB/s eta 0:00:01\n",
      "   --------------------------------------  101.0/101.1 MB 21.8 MB/s eta 0:00:01\n",
      "   --------------------------------------  101.0/101.1 MB 21.8 MB/s eta 0:00:01\n",
      "   --------------------------------------  101.0/101.1 MB 21.8 MB/s eta 0:00:01\n",
      "   ---------------------------------------- 101.1/101.1 MB 9.3 MB/s eta 0:00:00\n",
      "Downloading graphviz-0.20.2-py3-none-any.whl (47 kB)\n",
      "   ---------------------------------------- 0.0/47.2 kB ? eta -:--:--\n",
      "   ---------------------------------------- 47.2/47.2 kB ? eta 0:00:00\n",
      "Installing collected packages: graphviz, catboost\n",
      "Successfully installed catboost-1.2.3 graphviz-0.20.2\n"
     ]
    }
   ],
   "source": "#!pip install catboost",
   "metadata": {
    "collapsed": false,
    "ExecuteTime": {
     "end_time": "2024-03-20T15:47:15.479324100Z",
     "start_time": "2024-03-20T15:46:54.672373400Z"
    }
   },
   "id": "627c50f74492209c",
   "execution_count": 3
  },
  {
   "cell_type": "code",
   "outputs": [],
   "source": [
    "#from sklearn.preprocessing import OneHotEncoder, LabelEncoder, label_binarize\n",
    "\n",
    "#import catboost\n",
    "#from sklearn.model_selection import train_test_split\n",
    "from sklearn import model_selection, tree, preprocessing, metrics, linear_model\n",
    "from sklearn.svm import LinearSVC\n",
    "from sklearn.ensemble import GradientBoostingClassifier, RandomForestClassifier\n",
    "from sklearn.neighbors import KNeighborsClassifier\n",
    "from sklearn.naive_bayes import GaussianNB\n",
    "from sklearn.linear_model import LinearRegression, LogisticRegression, SGDClassifier\n",
    "from sklearn.tree import DecisionTreeClassifier\n",
    "#from catboost import CatBoostClassifier, Pool, cv\n",
    "\n",
    "from sklearn.linear_model import LogisticRegression\n",
    "from sklearn.ensemble import RandomForestClassifier\n",
    "from sklearn.model_selection import GridSearchCV"
   ],
   "metadata": {
    "collapsed": false,
    "ExecuteTime": {
     "end_time": "2024-03-20T15:47:30.373404400Z",
     "start_time": "2024-03-20T15:47:29.357502900Z"
    }
   },
   "id": "671a7d34338fb82b",
   "execution_count": 4
  },
  {
   "cell_type": "markdown",
   "source": [
    "#### Importando Arquivos"
   ],
   "metadata": {
    "collapsed": false
   },
   "id": "a7038ee9ef8b5f08"
  },
  {
   "cell_type": "code",
   "outputs": [],
   "source": [
    "train = pd.read_csv('Arquivos/train.csv')\n",
    "test = pd.read_csv('Arquivos/test.csv')\n",
    "gender_submission = pd.read_csv('Arquivos/gender_submission.csv')"
   ],
   "metadata": {
    "collapsed": false,
    "ExecuteTime": {
     "end_time": "2024-03-20T16:06:20.348439800Z",
     "start_time": "2024-03-20T16:06:19.563939200Z"
    }
   },
   "id": "2ca841774b83eed",
   "execution_count": 5
  },
  {
   "cell_type": "markdown",
   "source": [
    "##### Tratar nulos"
   ],
   "metadata": {
    "collapsed": false
   },
   "id": "b73a14b168c7ae30"
  },
  {
   "cell_type": "code",
   "outputs": [
    {
     "data": {
      "text/plain": "(PassengerId      0\n Survived         0\n Pclass           0\n Name             0\n Sex              0\n Age            177\n SibSp            0\n Parch            0\n Ticket           0\n Fare             0\n Cabin          687\n Embarked         2\n dtype: int64,\n PassengerId      0\n Pclass           0\n Name             0\n Sex              0\n Age             86\n SibSp            0\n Parch            0\n Ticket           0\n Fare             1\n Cabin          327\n Embarked         0\n dtype: int64)"
     },
     "execution_count": 7,
     "metadata": {},
     "output_type": "execute_result"
    }
   ],
   "source": [
    "train.isnull().sum(), test.isnull().sum()"
   ],
   "metadata": {
    "collapsed": false,
    "ExecuteTime": {
     "end_time": "2024-03-20T16:06:37.765251900Z",
     "start_time": "2024-03-20T16:06:37.748423300Z"
    }
   },
   "id": "24bc265c4ba43ff2",
   "execution_count": 7
  },
  {
   "cell_type": "code",
   "outputs": [],
   "source": [
    "passengerId = test['PassengerId']\n",
    "\n",
    "titanic_df = pd.concat([train,test], ignore_index=True)"
   ],
   "metadata": {
    "collapsed": false,
    "ExecuteTime": {
     "end_time": "2024-03-20T16:08:30.548602500Z",
     "start_time": "2024-03-20T16:08:30.534768200Z"
    }
   },
   "id": "3c7ce745d596bfcc",
   "execution_count": 9
  },
  {
   "cell_type": "code",
   "outputs": [],
   "source": [
    "# Para auxiliar no momento separar o DF titanic_df em train e test\n",
    "train_index = len(train)\n",
    "test_index = len(titanic_df) - len(test)"
   ],
   "metadata": {
    "collapsed": false,
    "ExecuteTime": {
     "end_time": "2024-03-20T16:08:58.805112600Z",
     "start_time": "2024-03-20T16:08:58.794653500Z"
    }
   },
   "id": "332d99632413846b",
   "execution_count": 10
  },
  {
   "cell_type": "code",
   "outputs": [
    {
     "data": {
      "text/plain": "PassengerId       0\nSurvived        418\nPclass            0\nName              0\nSex               0\nAge             263\nSibSp             0\nParch             0\nTicket            0\nFare              1\nCabin          1014\nEmbarked          2\ndtype: int64"
     },
     "execution_count": 11,
     "metadata": {},
     "output_type": "execute_result"
    }
   ],
   "source": [
    "titanic_df.isnull().sum()"
   ],
   "metadata": {
    "collapsed": false,
    "ExecuteTime": {
     "end_time": "2024-03-20T16:09:09.193650100Z",
     "start_time": "2024-03-20T16:09:09.178179Z"
    }
   },
   "id": "8cba8ee98cc49021",
   "execution_count": 11
  },
  {
   "cell_type": "code",
   "outputs": [
    {
     "data": {
      "text/plain": "       PassengerId    Survived      Pclass         Age       SibSp  \\\ncount   891.000000  891.000000  891.000000  714.000000  891.000000   \nmean    446.000000    0.383838    2.308642   29.699118    0.523008   \nstd     257.353842    0.486592    0.836071   14.526497    1.102743   \nmin       1.000000    0.000000    1.000000    0.420000    0.000000   \n25%     223.500000    0.000000    2.000000   20.125000    0.000000   \n50%     446.000000    0.000000    3.000000   28.000000    0.000000   \n75%     668.500000    1.000000    3.000000   38.000000    1.000000   \nmax     891.000000    1.000000    3.000000   80.000000    8.000000   \n\n            Parch        Fare  \ncount  891.000000  891.000000  \nmean     0.381594   32.204208  \nstd      0.806057   49.693429  \nmin      0.000000    0.000000  \n25%      0.000000    7.910400  \n50%      0.000000   14.454200  \n75%      0.000000   31.000000  \nmax      6.000000  512.329200  ",
      "text/html": "<div>\n<style scoped>\n    .dataframe tbody tr th:only-of-type {\n        vertical-align: middle;\n    }\n\n    .dataframe tbody tr th {\n        vertical-align: top;\n    }\n\n    .dataframe thead th {\n        text-align: right;\n    }\n</style>\n<table border=\"1\" class=\"dataframe\">\n  <thead>\n    <tr style=\"text-align: right;\">\n      <th></th>\n      <th>PassengerId</th>\n      <th>Survived</th>\n      <th>Pclass</th>\n      <th>Age</th>\n      <th>SibSp</th>\n      <th>Parch</th>\n      <th>Fare</th>\n    </tr>\n  </thead>\n  <tbody>\n    <tr>\n      <th>count</th>\n      <td>891.000000</td>\n      <td>891.000000</td>\n      <td>891.000000</td>\n      <td>714.000000</td>\n      <td>891.000000</td>\n      <td>891.000000</td>\n      <td>891.000000</td>\n    </tr>\n    <tr>\n      <th>mean</th>\n      <td>446.000000</td>\n      <td>0.383838</td>\n      <td>2.308642</td>\n      <td>29.699118</td>\n      <td>0.523008</td>\n      <td>0.381594</td>\n      <td>32.204208</td>\n    </tr>\n    <tr>\n      <th>std</th>\n      <td>257.353842</td>\n      <td>0.486592</td>\n      <td>0.836071</td>\n      <td>14.526497</td>\n      <td>1.102743</td>\n      <td>0.806057</td>\n      <td>49.693429</td>\n    </tr>\n    <tr>\n      <th>min</th>\n      <td>1.000000</td>\n      <td>0.000000</td>\n      <td>1.000000</td>\n      <td>0.420000</td>\n      <td>0.000000</td>\n      <td>0.000000</td>\n      <td>0.000000</td>\n    </tr>\n    <tr>\n      <th>25%</th>\n      <td>223.500000</td>\n      <td>0.000000</td>\n      <td>2.000000</td>\n      <td>20.125000</td>\n      <td>0.000000</td>\n      <td>0.000000</td>\n      <td>7.910400</td>\n    </tr>\n    <tr>\n      <th>50%</th>\n      <td>446.000000</td>\n      <td>0.000000</td>\n      <td>3.000000</td>\n      <td>28.000000</td>\n      <td>0.000000</td>\n      <td>0.000000</td>\n      <td>14.454200</td>\n    </tr>\n    <tr>\n      <th>75%</th>\n      <td>668.500000</td>\n      <td>1.000000</td>\n      <td>3.000000</td>\n      <td>38.000000</td>\n      <td>1.000000</td>\n      <td>0.000000</td>\n      <td>31.000000</td>\n    </tr>\n    <tr>\n      <th>max</th>\n      <td>891.000000</td>\n      <td>1.000000</td>\n      <td>3.000000</td>\n      <td>80.000000</td>\n      <td>8.000000</td>\n      <td>6.000000</td>\n      <td>512.329200</td>\n    </tr>\n  </tbody>\n</table>\n</div>"
     },
     "execution_count": 12,
     "metadata": {},
     "output_type": "execute_result"
    }
   ],
   "source": [
    "train.describe()"
   ],
   "metadata": {
    "collapsed": false,
    "ExecuteTime": {
     "end_time": "2024-03-20T16:09:22.560735700Z",
     "start_time": "2024-03-20T16:09:22.521323800Z"
    }
   },
   "id": "d4f7a6ab0094111b",
   "execution_count": 12
  },
  {
   "cell_type": "code",
   "outputs": [],
   "source": [
    "df = pd.DataFrame()"
   ],
   "metadata": {
    "collapsed": false
   },
   "id": "cd9bc0895bf66ffe",
   "execution_count": null
  },
  {
   "cell_type": "markdown",
   "source": [
    "##### Survived"
   ],
   "metadata": {
    "collapsed": false
   },
   "id": "c2b852af79b27a68"
  },
  {
   "cell_type": "code",
   "outputs": [
    {
     "name": "stdout",
     "output_type": "stream",
     "text": [
      "Quantidade de valores únicos: 2\n",
      "\n",
      "Quais são os valores únicos: [ 0.  1. nan]\n",
      "\n",
      "Quantidade de valores nulos: 418\n",
      "\n",
      "Quantidade por opção: \n",
      "Survived\n",
      "0.0    549\n",
      "1.0    342\n",
      "Name: count, dtype: int64\n"
     ]
    },
    {
     "data": {
      "text/plain": "<Figure size 640x480 with 1 Axes>",
      "image/png": "[encoded data removed]"
     },
     "metadata": {},
     "output_type": "display_data"
    }
   ],
   "source": [
    "def titanic_func(data, column, count = True):\n",
    "    print(f'Quantidade de valores únicos: {data[column].nunique()}')\n",
    "    print(f'\\nQuais são os valores únicos: {data[column].unique()}')\n",
    "    print(f'\\nQuantidade de valores nulos: {data[column].isnull().sum()}')\n",
    "    print(f'\\nQuantidade por opção: \\n{data[column].value_counts()}')\n",
    "    \n",
    "    if count == True:\n",
    "        sns.countplot(data = data, x = column, hue = 'Survived')\n",
    "    else:\n",
    "        sns.displot(data[column], kde = True)\n",
    "    \n",
    "    \n",
    "titanic_func(titanic_df, 'Survived')"
   ],
   "metadata": {
    "collapsed": false,
    "ExecuteTime": {
     "end_time": "2024-03-20T16:11:12.728686500Z",
     "start_time": "2024-03-20T16:11:12.529399700Z"
    }
   },
   "id": "5e9c4e8a62ac917c",
   "execution_count": 17
  },
  {
   "cell_type": "code",
   "outputs": [],
   "source": [
    "df = pd.DataFrame()\n",
    "df['Survived'] = titanic_df['Survived']"
   ],
   "metadata": {
    "collapsed": false,
    "ExecuteTime": {
     "end_time": "2024-03-20T16:12:33.105993500Z",
     "start_time": "2024-03-20T16:12:33.084893800Z"
    }
   },
   "id": "8d764c790ff39715",
   "execution_count": 21
  },
  {
   "cell_type": "markdown",
   "source": [
    "##### Pclass"
   ],
   "metadata": {
    "collapsed": false
   },
   "id": "17955aca070a6b16"
  },
  {
   "cell_type": "code",
   "outputs": [
    {
     "name": "stdout",
     "output_type": "stream",
     "text": [
      "Quantidade de valores únicos: 3\n",
      "\n",
      "Quais são os valores únicos: [3 1 2]\n",
      "\n",
      "Quantidade de valores nulos: 0\n",
      "\n",
      "Quantidade por opção: \n",
      "Pclass\n",
      "3    709\n",
      "1    323\n",
      "2    277\n",
      "Name: count, dtype: int64\n"
     ]
    },
    {
     "data": {
      "text/plain": "<Figure size 640x480 with 1 Axes>",
      "image/png": "[encoded data removed]"
     },
     "metadata": {},
     "output_type": "display_data"
    }
   ],
   "source": [
    "titanic_func(titanic_df, 'Pclass')"
   ],
   "metadata": {
    "collapsed": false,
    "ExecuteTime": {
     "end_time": "2024-03-20T16:13:22.188245500Z",
     "start_time": "2024-03-20T16:13:21.903273100Z"
    }
   },
   "id": "fe9a3053749ce78",
   "execution_count": 22
  },
  {
   "cell_type": "code",
   "outputs": [],
   "source": [
    "df['Pclass'] = titanic_df['Pclass']"
   ],
   "metadata": {
    "collapsed": false,
    "ExecuteTime": {
     "end_time": "2024-03-20T16:13:57.247400200Z",
     "start_time": "2024-03-20T16:13:57.214155800Z"
    }
   },
   "id": "87c53cf50223e9fc",
   "execution_count": 23
  },
  {
   "cell_type": "markdown",
   "source": [
    "##### Sex"
   ],
   "metadata": {
    "collapsed": false
   },
   "id": "72026d2a25c5a0b4"
  },
  {
   "cell_type": "code",
   "outputs": [
    {
     "data": {
      "text/plain": "array(['male', 'female'], dtype=object)"
     },
     "execution_count": 24,
     "metadata": {},
     "output_type": "execute_result"
    }
   ],
   "source": [
    "titanic_df['Sex'].unique()"
   ],
   "metadata": {
    "collapsed": false,
    "ExecuteTime": {
     "end_time": "2024-03-20T16:14:52.993587200Z",
     "start_time": "2024-03-20T16:14:52.932127200Z"
    }
   },
   "id": "45b9a8fe8e38830f",
   "execution_count": 24
  },
  {
   "cell_type": "code",
   "outputs": [
    {
     "name": "stdout",
     "output_type": "stream",
     "text": [
      "Quantidade de valores únicos: 2\n",
      "\n",
      "Quais são os valores únicos: [0 1]\n",
      "\n",
      "Quantidade de valores nulos: 0\n",
      "\n",
      "Quantidade por opção: \n",
      "Sex\n",
      "0    843\n",
      "1    466\n",
      "Name: count, dtype: int64\n"
     ]
    },
    {
     "data": {
      "text/plain": "<Figure size 640x480 with 1 Axes>",
      "image/png": "[encoded data removed]"
     },
     "metadata": {},
     "output_type": "display_data"
    }
   ],
   "source": [
    "titanic_df['Sex'] = titanic_df['Sex'].replace(['female', 'male'], [1, 0])\n",
    "\n",
    "titanic_func(titanic_df, 'Sex')"
   ],
   "metadata": {
    "collapsed": false,
    "ExecuteTime": {
     "end_time": "2024-03-20T16:14:55.341250Z",
     "start_time": "2024-03-20T16:14:55.150182800Z"
    }
   },
   "id": "d890987a6a0d1f02",
   "execution_count": 25
  },
  {
   "cell_type": "code",
   "outputs": [],
   "source": [
    "df['Sex'] = titanic_df['Sex']"
   ],
   "metadata": {
    "collapsed": false,
    "ExecuteTime": {
     "end_time": "2024-03-20T16:15:40.103215300Z",
     "start_time": "2024-03-20T16:15:40.076917700Z"
    }
   },
   "id": "458e03a475dc58f2",
   "execution_count": 26
  },
  {
   "cell_type": "markdown",
   "source": [
    "##### Age"
   ],
   "metadata": {
    "collapsed": false
   },
   "id": "95f83ec7d874d6ea"
  },
  {
   "cell_type": "code",
   "outputs": [
    {
     "name": "stdout",
     "output_type": "stream",
     "text": [
      "Quantidade de valores únicos: 98\n",
      "\n",
      "Quais são os valores únicos: [22.   38.   26.   35.     nan 54.    2.   27.   14.    4.   58.   20.\n",
      " 39.   55.   31.   34.   15.   28.    8.   19.   40.   66.   42.   21.\n",
      " 18.    3.    7.   49.   29.   65.   28.5   5.   11.   45.   17.   32.\n",
      " 16.   25.    0.83 30.   33.   23.   24.   46.   59.   71.   37.   47.\n",
      " 14.5  70.5  32.5  12.    9.   36.5  51.   55.5  40.5  44.    1.   61.\n",
      " 56.   50.   36.   45.5  20.5  62.   41.   52.   63.   23.5   0.92 43.\n",
      " 60.   10.   64.   13.   48.    0.75 53.   57.   80.   70.   24.5   6.\n",
      "  0.67 30.5   0.42 34.5  74.   22.5  18.5  67.   76.   26.5  60.5  11.5\n",
      "  0.33  0.17 38.5 ]\n",
      "\n",
      "Quantidade de valores nulos: 263\n",
      "\n",
      "Quantidade por opção: \n",
      "Age\n",
      "24.0    47\n",
      "22.0    43\n",
      "21.0    41\n",
      "30.0    40\n",
      "18.0    39\n",
      "        ..\n",
      "23.5     1\n",
      "70.5     1\n",
      "55.5     1\n",
      "20.5     1\n",
      "38.5     1\n",
      "Name: count, Length: 98, dtype: int64\n"
     ]
    },
    {
     "name": "stderr",
     "output_type": "stream",
     "text": [
      "C:\\Users\\loany\\anaconda3\\Lib\\site-packages\\seaborn\\_oldcore.py:1119: FutureWarning: use_inf_as_na option is deprecated and will be removed in a future version. Convert inf values to NaN before operating instead.\n",
      "  with pd.option_context('mode.use_inf_as_na', True):\n",
      "C:\\Users\\loany\\anaconda3\\Lib\\site-packages\\seaborn\\axisgrid.py:118: UserWarning: The figure layout has changed to tight\n",
      "  self._figure.tight_layout(*args, **kwargs)\n"
     ]
    },
    {
     "data": {
      "text/plain": "<Figure size 500x500 with 1 Axes>",
      "image/png": "[encoded data removed]"
     },
     "metadata": {},
     "output_type": "display_data"
    }
   ],
   "source": [
    "titanic_func(titanic_df, 'Age', False)"
   ],
   "metadata": {
    "collapsed": false,
    "ExecuteTime": {
     "end_time": "2024-03-20T16:15:54.559537100Z",
     "start_time": "2024-03-20T16:15:52.784321600Z"
    }
   },
   "id": "30cb05536f7a9903",
   "execution_count": 27
  },
  {
   "cell_type": "code",
   "outputs": [
    {
     "name": "stdout",
     "output_type": "stream",
     "text": [
      "Idade média da 1ª classe: 39\n",
      "Idade média da 2ª classe: 30\n",
      "Idade média da 3ª classe: 25\n"
     ]
    }
   ],
   "source": [
    "for i in sorted(titanic_df['Pclass'].unique()):\n",
    "    print (f\"Idade média da {i}ª classe: {round(titanic_df[titanic_df['Pclass'] == i]['Age'].mean(),0).astype(int)}\")\n",
    "    "
   ],
   "metadata": {
    "collapsed": false,
    "ExecuteTime": {
     "end_time": "2024-03-20T16:30:35.524870100Z",
     "start_time": "2024-03-20T16:30:35.481653300Z"
    }
   },
   "id": "5845b00938e24f88",
   "execution_count": 37
  },
  {
   "cell_type": "code",
   "source": [
    "for i in titanic_df.index:\n",
    "    if pd.isnull(titanic_df['Age'][i]):\n",
    "        \n",
    "        if titanic_df['Pclass'][i] == 1:\n",
    "            titanic_df['Age'][i] = round(titanic_df[titanic_df['Pclass'] == 1]['Age'].mean(), 0)\n",
    "            \n",
    "        elif titanic_df['Pclass'][i] == 2:\n",
    "            titanic_df['Age'][i] = round(titanic_df[titanic_df['Pclass'] == 2]['Age'].mean(), 0)\n",
    "            \n",
    "        elif titanic_df['Pclass'][i] == 3:\n",
    "            titanic_df['Age'][i] = round(titanic_df[titanic_df['Pclass'] == 3]['Age'].mean(), 0)\n",
    "            \n",
    "    else:\n",
    "        continue"
   ],
   "metadata": {
    "collapsed": false
   },
   "id": "1808242d2f33270",
   "outputs": [],
   "execution_count": null
  },
  {
   "cell_type": "code",
   "outputs": [
    {
     "name": "stdout",
     "output_type": "stream",
     "text": [
      "<class 'pandas.core.frame.DataFrame'>\n",
      "RangeIndex: 1309 entries, 0 to 1308\n",
      "Data columns (total 12 columns):\n",
      " #   Column       Non-Null Count  Dtype  \n",
      "---  ------       --------------  -----  \n",
      " 0   PassengerId  1309 non-null   int64  \n",
      " 1   Survived     891 non-null    float64\n",
      " 2   Pclass       1309 non-null   int64  \n",
      " 3   Name         1309 non-null   object \n",
      " 4   Sex          1309 non-null   int64  \n",
      " 5   Age          1309 non-null   float64\n",
      " 6   SibSp        1309 non-null   int64  \n",
      " 7   Parch        1309 non-null   int64  \n",
      " 8   Ticket       1309 non-null   object \n",
      " 9   Fare         1308 non-null   float64\n",
      " 10  Cabin        295 non-null    object \n",
      " 11  Embarked     1307 non-null   object \n",
      "dtypes: float64(3), int64(5), object(4)\n",
      "memory usage: 122.8+ KB\n"
     ]
    }
   ],
   "source": [
    "titanic_df.info()"
   ],
   "metadata": {
    "collapsed": false,
    "ExecuteTime": {
     "end_time": "2024-03-20T16:34:12.928539400Z",
     "start_time": "2024-03-20T16:34:12.837336200Z"
    }
   },
   "id": "9efce2edcba7ef8e",
   "execution_count": 40
  },
  {
   "cell_type": "code",
   "outputs": [],
   "source": [
    "df['Age'] = titanic_df['Age']"
   ],
   "metadata": {
    "collapsed": false,
    "ExecuteTime": {
     "end_time": "2024-03-20T16:34:41.158782300Z",
     "start_time": "2024-03-20T16:34:41.088559Z"
    }
   },
   "id": "19cb3a425e21ab62",
   "execution_count": 41
  },
  {
   "cell_type": "markdown",
   "source": [
    "##### SibSp"
   ],
   "metadata": {
    "collapsed": false
   },
   "id": "defc97780b3a3aaf"
  },
  {
   "cell_type": "code",
   "outputs": [
    {
     "name": "stdout",
     "output_type": "stream",
     "text": [
      "Quantidade de valores únicos: 7\n",
      "\n",
      "Quais são os valores únicos: [1 0 3 4 2 5 8]\n",
      "\n",
      "Quantidade de valores nulos: 0\n",
      "\n",
      "Quantidade por opção: \n",
      "SibSp\n",
      "0    891\n",
      "1    319\n",
      "2     42\n",
      "4     22\n",
      "3     20\n",
      "8      9\n",
      "5      6\n",
      "Name: count, dtype: int64\n"
     ]
    },
    {
     "data": {
      "text/plain": "<Figure size 640x480 with 1 Axes>",
      "image/png": "[encoded data removed]"
     },
     "metadata": {},
     "output_type": "display_data"
    }
   ],
   "source": [
    "titanic_func(titanic_df, 'SibSp')"
   ],
   "metadata": {
    "collapsed": false,
    "ExecuteTime": {
     "end_time": "2024-03-20T16:35:04.562535Z",
     "start_time": "2024-03-20T16:35:03.660546300Z"
    }
   },
   "id": "3a6edeff6ab82d40",
   "execution_count": 42
  },
  {
   "cell_type": "code",
   "outputs": [],
   "source": [
    "df['SibSp'] = titanic_df['SibSp']"
   ],
   "metadata": {
    "collapsed": false,
    "ExecuteTime": {
     "end_time": "2024-03-20T16:35:52.801349400Z",
     "start_time": "2024-03-20T16:35:52.715453500Z"
    }
   },
   "id": "575b3351d55a0dfb",
   "execution_count": 43
  },
  {
   "cell_type": "markdown",
   "source": [
    "##### Parch"
   ],
   "metadata": {
    "collapsed": false
   },
   "id": "b26a983b82e4a79f"
  },
  {
   "cell_type": "code",
   "outputs": [
    {
     "name": "stdout",
     "output_type": "stream",
     "text": [
      "Quantidade de valores únicos: 8\n",
      "\n",
      "Quais são os valores únicos: [0 1 2 5 3 4 6 9]\n",
      "\n",
      "Quantidade de valores nulos: 0\n",
      "\n",
      "Quantidade por opção: \n",
      "Parch\n",
      "0    1002\n",
      "1     170\n",
      "2     113\n",
      "3       8\n",
      "5       6\n",
      "4       6\n",
      "6       2\n",
      "9       2\n",
      "Name: count, dtype: int64\n"
     ]
    },
    {
     "data": {
      "text/plain": "<Figure size 640x480 with 1 Axes>",
      "image/png": "[encoded data removed]"
     },
     "metadata": {},
     "output_type": "display_data"
    }
   ],
   "source": [
    "titanic_func(titanic_df, 'Parch')"
   ],
   "metadata": {
    "collapsed": false,
    "ExecuteTime": {
     "end_time": "2024-03-20T16:36:12.900740800Z",
     "start_time": "2024-03-20T16:36:12.577564600Z"
    }
   },
   "id": "bc42614583e4b2cc",
   "execution_count": 44
  },
  {
   "cell_type": "code",
   "outputs": [],
   "source": [
    "df['Parch'] = titanic_df['Parch']"
   ],
   "metadata": {
    "collapsed": false,
    "ExecuteTime": {
     "end_time": "2024-03-20T16:36:25.149546500Z",
     "start_time": "2024-03-20T16:36:25.032441100Z"
    }
   },
   "id": "a9925c3ffe883994",
   "execution_count": 45
  },
  {
   "cell_type": "markdown",
   "source": [
    "##### Create column - FamilySize"
   ],
   "metadata": {
    "collapsed": false
   },
   "id": "d1f28a3ea1f8b659"
  },
  {
   "cell_type": "code",
   "outputs": [],
   "source": [
    "titanic_df['FamilySize'] = titanic_df['SibSp'] + titanic_df['Parch'] + 1\n",
    "\n",
    "df['FamilySize'] = titanic_df['FamilySize']"
   ],
   "metadata": {
    "collapsed": false,
    "ExecuteTime": {
     "end_time": "2024-03-20T16:37:03.242557900Z",
     "start_time": "2024-03-20T16:37:03.142821300Z"
    }
   },
   "id": "143d1447f3f9e0ec",
   "execution_count": 47
  },
  {
   "cell_type": "markdown",
   "source": [
    "##### Fare"
   ],
   "metadata": {
    "collapsed": false
   },
   "id": "f5d2dd72e901f371"
  },
  {
   "cell_type": "code",
   "outputs": [
    {
     "name": "stdout",
     "output_type": "stream",
     "text": [
      "Quantidade de valores únicos: 281\n",
      "\n",
      "Quais são os valores únicos: [  7.25    71.2833   7.925   53.1      8.05     8.4583  51.8625  21.075\n",
      "  11.1333  30.0708  16.7     26.55    31.275    7.8542  16.      29.125\n",
      "  13.      18.       7.225   26.       8.0292  35.5     31.3875 263.\n",
      "   7.8792   7.8958  27.7208 146.5208   7.75    10.5     82.1708  52.\n",
      "   7.2292  11.2417   9.475   21.      41.5792  15.5     21.6792  17.8\n",
      "  39.6875   7.8     76.7292  61.9792  27.75    46.9     80.      83.475\n",
      "  27.9     15.2458   8.1583   8.6625  73.5     14.4542  56.4958   7.65\n",
      "  29.      12.475    9.       9.5      7.7875  47.1     15.85    34.375\n",
      "  61.175   20.575   34.6542  63.3583  23.      77.2875   8.6542   7.775\n",
      "  24.15     9.825   14.4583 247.5208   7.1417  22.3583   6.975    7.05\n",
      "  14.5     15.0458  26.2833   9.2167  79.2      6.75    11.5     36.75\n",
      "   7.7958  12.525   66.6      7.3125  61.3792   7.7333  69.55    16.1\n",
      "  15.75    20.525   55.      25.925   33.5     30.6958  25.4667  28.7125\n",
      "   0.      15.05    39.      22.025   50.       8.4042   6.4958  10.4625\n",
      "  18.7875  31.     113.275   27.      76.2917  90.       9.35    13.5\n",
      "   7.55    26.25    12.275    7.125   52.5542  20.2125  86.5    512.3292\n",
      "  79.65   153.4625 135.6333  19.5     29.7     77.9583  20.25    78.85\n",
      "  91.0792  12.875    8.85   151.55    30.5     23.25    12.35   110.8833\n",
      " 108.9     24.      56.9292  83.1583 262.375   14.     164.8667 134.5\n",
      "   6.2375  57.9792  28.5    133.65    15.9      9.225   35.      75.25\n",
      "  69.3     55.4417 211.5      4.0125 227.525   15.7417   7.7292  12.\n",
      " 120.      12.65    18.75     6.8583  32.5      7.875   14.4     55.9\n",
      "   8.1125  81.8583  19.2583  19.9667  89.1042  38.5      7.725   13.7917\n",
      "   9.8375   7.0458   7.5208  12.2875   9.5875  49.5042  78.2667  15.1\n",
      "   7.6292  22.525   26.2875  59.4      7.4958  34.0208  93.5    221.7792\n",
      " 106.425   49.5     71.      13.8625   7.8292  39.6     17.4     51.4792\n",
      "  26.3875  30.      40.125    8.7125  15.      33.      42.4     15.55\n",
      "  65.      32.3208   7.0542   8.4333  25.5875   9.8417   8.1375  10.1708\n",
      " 211.3375  57.      13.4167   7.7417   9.4833   7.7375   8.3625  23.45\n",
      "  25.9292   8.6833   8.5167   7.8875  37.0042   6.45     6.95     8.3\n",
      "   6.4375  39.4     14.1083  13.8583  50.4958   5.       9.8458  10.5167\n",
      "   7.       9.6875  82.2667   3.1708  31.6833  31.5     57.75     7.85\n",
      "  60.      15.0333  15.5792  28.5375  25.7     10.7083  13.9      7.8208\n",
      "   7.7792  31.6792   7.2833  75.2417      nan  12.1833  13.775    8.9625\n",
      "  25.7417  42.5     27.4458 136.7792   9.325   12.7375  45.5      7.575\n",
      "   7.5792   7.7208]\n",
      "\n",
      "Quantidade de valores nulos: 1\n",
      "\n",
      "Quantidade por opção: \n",
      "Fare\n",
      "8.0500     60\n",
      "13.0000    59\n",
      "7.7500     55\n",
      "26.0000    50\n",
      "7.8958     49\n",
      "           ..\n",
      "7.7417      1\n",
      "8.1583      1\n",
      "8.4583      1\n",
      "7.8000      1\n",
      "7.7208      1\n",
      "Name: count, Length: 281, dtype: int64\n"
     ]
    },
    {
     "name": "stderr",
     "output_type": "stream",
     "text": [
      "C:\\Users\\loany\\anaconda3\\Lib\\site-packages\\seaborn\\_oldcore.py:1119: FutureWarning: use_inf_as_na option is deprecated and will be removed in a future version. Convert inf values to NaN before operating instead.\n",
      "  with pd.option_context('mode.use_inf_as_na', True):\n",
      "C:\\Users\\loany\\anaconda3\\Lib\\site-packages\\seaborn\\axisgrid.py:118: UserWarning: The figure layout has changed to tight\n",
      "  self._figure.tight_layout(*args, **kwargs)\n"
     ]
    },
    {
     "data": {
      "text/plain": "<Figure size 500x500 with 1 Axes>",
      "image/png": "[encoded data removed]"
     },
     "metadata": {},
     "output_type": "display_data"
    }
   ],
   "source": [
    "titanic_func(titanic_df, 'Fare', False)"
   ],
   "metadata": {
    "collapsed": false,
    "ExecuteTime": {
     "end_time": "2024-03-20T16:37:18.797812800Z",
     "start_time": "2024-03-20T16:37:17.472406600Z"
    }
   },
   "id": "db92b4941a4d6084",
   "execution_count": 48
  },
  {
   "cell_type": "code",
   "outputs": [
    {
     "data": {
      "text/plain": "      PassengerId  Survived  Pclass                Name  Sex   Age  SibSp  \\\n1043         1044       NaN       3  Storey, Mr. Thomas    0  60.5      0   \n\n      Parch Ticket  Fare Cabin Embarked  FamilySize  \n1043      0   3701   NaN   NaN        S           1  ",
      "text/html": "<div>\n<style scoped>\n    .dataframe tbody tr th:only-of-type {\n        vertical-align: middle;\n    }\n\n    .dataframe tbody tr th {\n        vertical-align: top;\n    }\n\n    .dataframe thead th {\n        text-align: right;\n    }\n</style>\n<table border=\"1\" class=\"dataframe\">\n  <thead>\n    <tr style=\"text-align: right;\">\n      <th></th>\n      <th>PassengerId</th>\n      <th>Survived</th>\n      <th>Pclass</th>\n      <th>Name</th>\n      <th>Sex</th>\n      <th>Age</th>\n      <th>SibSp</th>\n      <th>Parch</th>\n      <th>Ticket</th>\n      <th>Fare</th>\n      <th>Cabin</th>\n      <th>Embarked</th>\n      <th>FamilySize</th>\n    </tr>\n  </thead>\n  <tbody>\n    <tr>\n      <th>1043</th>\n      <td>1044</td>\n      <td>NaN</td>\n      <td>3</td>\n      <td>Storey, Mr. Thomas</td>\n      <td>0</td>\n      <td>60.5</td>\n      <td>0</td>\n      <td>0</td>\n      <td>3701</td>\n      <td>NaN</td>\n      <td>NaN</td>\n      <td>S</td>\n      <td>1</td>\n    </tr>\n  </tbody>\n</table>\n</div>"
     },
     "execution_count": 49,
     "metadata": {},
     "output_type": "execute_result"
    }
   ],
   "source": [
    "titanic_df[titanic_df['Fare'].isnull()]"
   ],
   "metadata": {
    "collapsed": false,
    "ExecuteTime": {
     "end_time": "2024-03-20T16:37:34.428432200Z",
     "start_time": "2024-03-20T16:37:34.295487100Z"
    }
   },
   "id": "3409fdf85e82942e",
   "execution_count": 49
  },
  {
   "cell_type": "code",
   "outputs": [
    {
     "data": {
      "text/plain": "13.302888700564973"
     },
     "execution_count": 50,
     "metadata": {},
     "output_type": "execute_result"
    }
   ],
   "source": [
    "#Media de valor pago na 3ª classe\n",
    "titanic_df[titanic_df['Pclass'] == 3]['Fare'].mean()"
   ],
   "metadata": {
    "collapsed": false,
    "ExecuteTime": {
     "end_time": "2024-03-20T16:37:44.351236400Z",
     "start_time": "2024-03-20T16:37:44.209340900Z"
    }
   },
   "id": "1e2539495ac315be",
   "execution_count": 50
  },
  {
   "cell_type": "code",
   "outputs": [],
   "source": [
    "titanic_df['Fare'].fillna(titanic_df[titanic_df['Pclass'] == 3]['Fare'].mean(), inplace = True)\n",
    "\n",
    "df['Fare'] = titanic_df['Fare']"
   ],
   "metadata": {
    "collapsed": false,
    "ExecuteTime": {
     "end_time": "2024-03-20T16:38:15.663213800Z",
     "start_time": "2024-03-20T16:38:15.565409600Z"
    }
   },
   "id": "bbf041de51582f6c",
   "execution_count": 51
  },
  {
   "cell_type": "markdown",
   "source": [
    "##### Cabin"
   ],
   "metadata": {
    "collapsed": false
   },
   "id": "249fe7a30788377c"
  },
  {
   "cell_type": "code",
   "outputs": [
    {
     "data": {
      "text/plain": "1014"
     },
     "execution_count": 54,
     "metadata": {},
     "output_type": "execute_result"
    }
   ],
   "source": [
    "titanic_df['Cabin'].isnull().sum()"
   ],
   "metadata": {
    "collapsed": false,
    "ExecuteTime": {
     "end_time": "2024-03-20T16:39:10.532263600Z",
     "start_time": "2024-03-20T16:39:10.430575600Z"
    }
   },
   "id": "17f76a7a7ef50b08",
   "execution_count": 54
  },
  {
   "cell_type": "code",
   "outputs": [
    {
     "data": {
      "text/plain": "array([nan, 'C85', 'C123', 'E46', 'G6', 'C103', 'D56', 'A6',\n       'C23 C25 C27', 'B78', 'D33', 'B30', 'C52', 'B28', 'C83', 'F33',\n       'F G73', 'E31', 'A5', 'D10 D12', 'D26', 'C110', 'B58 B60', 'E101',\n       'F E69', 'D47', 'B86', 'F2', 'C2', 'E33', 'B19', 'A7', 'C49', 'F4',\n       'A32', 'B4', 'B80', 'A31', 'D36', 'D15', 'C93', 'C78', 'D35',\n       'C87', 'B77', 'E67', 'B94', 'C125', 'C99', 'C118', 'D7', 'A19',\n       'B49', 'D', 'C22 C26', 'C106', 'C65', 'E36', 'C54',\n       'B57 B59 B63 B66', 'C7', 'E34', 'C32', 'B18', 'C124', 'C91', 'E40',\n       'T', 'C128', 'D37', 'B35', 'E50', 'C82', 'B96 B98', 'E10', 'E44',\n       'A34', 'C104', 'C111', 'C92', 'E38', 'D21', 'E12', 'E63', 'A14',\n       'B37', 'C30', 'D20', 'B79', 'E25', 'D46', 'B73', 'C95', 'B38',\n       'B39', 'B22', 'C86', 'C70', 'A16', 'C101', 'C68', 'A10', 'E68',\n       'B41', 'A20', 'D19', 'D50', 'D9', 'A23', 'B50', 'A26', 'D48',\n       'E58', 'C126', 'B71', 'B51 B53 B55', 'D49', 'B5', 'B20', 'F G63',\n       'C62 C64', 'E24', 'C90', 'C45', 'E8', 'B101', 'D45', 'C46', 'D30',\n       'E121', 'D11', 'E77', 'F38', 'B3', 'D6', 'B82 B84', 'D17', 'A36',\n       'B102', 'B69', 'E49', 'C47', 'D28', 'E17', 'A24', 'C50', 'B42',\n       'C148', 'B45', 'B36', 'A21', 'D34', 'A9', 'C31', 'B61', 'C53',\n       'D43', 'C130', 'C132', 'C55 C57', 'C116', 'F', 'A29', 'C6', 'C28',\n       'C51', 'C97', 'D22', 'B10', 'E45', 'E52', 'A11', 'B11', 'C80',\n       'C89', 'F E46', 'B26', 'F E57', 'A18', 'E60', 'E39 E41',\n       'B52 B54 B56', 'C39', 'B24', 'D40', 'D38', 'C105'], dtype=object)"
     },
     "execution_count": 58,
     "metadata": {},
     "output_type": "execute_result"
    }
   ],
   "source": [
    "titanic_df['Cabin'].unique()"
   ],
   "metadata": {
    "collapsed": false,
    "ExecuteTime": {
     "end_time": "2024-03-20T16:42:05.307611600Z",
     "start_time": "2024-03-20T16:42:05.194912100Z"
    }
   },
   "id": "c9affd6b2476ab84",
   "execution_count": 58
  },
  {
   "cell_type": "markdown",
   "source": [
    "##### Embarked"
   ],
   "metadata": {
    "collapsed": false
   },
   "id": "37c71b8bdf02a4a5"
  },
  {
   "cell_type": "code",
   "outputs": [
    {
     "name": "stdout",
     "output_type": "stream",
     "text": [
      "Quantidade de valores únicos: 3\n",
      "\n",
      "Quais são os valores únicos: ['S' 'C' 'Q' nan]\n",
      "\n",
      "Quantidade de valores nulos: 2\n",
      "\n",
      "Quantidade por opção: \n",
      "Embarked\n",
      "S    914\n",
      "C    270\n",
      "Q    123\n",
      "Name: count, dtype: int64\n"
     ]
    },
    {
     "data": {
      "text/plain": "<Figure size 640x480 with 1 Axes>",
      "image/png": "[encoded data removed]"
     },
     "metadata": {},
     "output_type": "display_data"
    }
   ],
   "source": [
    "titanic_func(titanic_df, 'Embarked')"
   ],
   "metadata": {
    "collapsed": false,
    "ExecuteTime": {
     "end_time": "2024-03-20T16:39:58.759548700Z",
     "start_time": "2024-03-20T16:39:58.534742400Z"
    }
   },
   "id": "e7415ac4f709d06a",
   "execution_count": 56
  },
  {
   "cell_type": "code",
   "outputs": [
    {
     "data": {
      "text/plain": "0.33695652173913043"
     },
     "execution_count": 59,
     "metadata": {},
     "output_type": "execute_result"
    }
   ],
   "source": [
    "titanic_df[titanic_df['Embarked'] == \"S\"]['Survived'].mean()"
   ],
   "metadata": {
    "collapsed": false,
    "ExecuteTime": {
     "end_time": "2024-03-20T16:42:29.033896500Z",
     "start_time": "2024-03-20T16:42:29.011931400Z"
    }
   },
   "id": "96823dd2125b9455",
   "execution_count": 59
  },
  {
   "cell_type": "code",
   "outputs": [
    {
     "data": {
      "text/plain": "2.3479212253829322"
     },
     "execution_count": 60,
     "metadata": {},
     "output_type": "execute_result"
    }
   ],
   "source": [
    "titanic_df[titanic_df['Embarked'] == \"S\"]['Pclass'].mean()"
   ],
   "metadata": {
    "collapsed": false,
    "ExecuteTime": {
     "end_time": "2024-03-20T16:43:15.688404600Z",
     "start_time": "2024-03-20T16:43:15.586263200Z"
    }
   },
   "id": "73defeff46480734",
   "execution_count": 60
  },
  {
   "cell_type": "code",
   "outputs": [
    {
     "data": {
      "text/plain": "0.5535714285714286"
     },
     "execution_count": 61,
     "metadata": {},
     "output_type": "execute_result"
    }
   ],
   "source": [
    "titanic_df[titanic_df['Embarked'] == \"C\"]['Survived'].mean()"
   ],
   "metadata": {
    "collapsed": false,
    "ExecuteTime": {
     "end_time": "2024-03-20T16:43:22.033936700Z",
     "start_time": "2024-03-20T16:43:21.901716Z"
    }
   },
   "id": "a46442c0b4392ebb",
   "execution_count": 61
  },
  {
   "cell_type": "code",
   "outputs": [
    {
     "data": {
      "text/plain": "1.8518518518518519"
     },
     "execution_count": 62,
     "metadata": {},
     "output_type": "execute_result"
    }
   ],
   "source": [
    "titanic_df[titanic_df['Embarked'] == \"C\"]['Pclass'].mean()"
   ],
   "metadata": {
    "collapsed": false,
    "ExecuteTime": {
     "end_time": "2024-03-20T16:43:26.625405400Z",
     "start_time": "2024-03-20T16:43:26.507283100Z"
    }
   },
   "id": "41c0ff1f06573a7d",
   "execution_count": 62
  },
  {
   "cell_type": "code",
   "outputs": [
    {
     "data": {
      "text/plain": "0.38961038961038963"
     },
     "execution_count": 63,
     "metadata": {},
     "output_type": "execute_result"
    }
   ],
   "source": [
    "titanic_df[titanic_df['Embarked'] == \"Q\"]['Survived'].mean()"
   ],
   "metadata": {
    "collapsed": false,
    "ExecuteTime": {
     "end_time": "2024-03-20T16:43:32.398835800Z",
     "start_time": "2024-03-20T16:43:32.267448Z"
    }
   },
   "id": "6bf10eb761d21715",
   "execution_count": 63
  },
  {
   "cell_type": "code",
   "outputs": [
    {
     "data": {
      "text/plain": "2.894308943089431"
     },
     "execution_count": 64,
     "metadata": {},
     "output_type": "execute_result"
    }
   ],
   "source": [
    "titanic_df[titanic_df['Embarked'] == \"Q\"]['Pclass'].mean()"
   ],
   "metadata": {
    "collapsed": false,
    "ExecuteTime": {
     "end_time": "2024-03-20T16:43:39.137367800Z",
     "start_time": "2024-03-20T16:43:39.019757700Z"
    }
   },
   "id": "89537e1ac1e20c09",
   "execution_count": 64
  },
  {
   "cell_type": "code",
   "outputs": [
    {
     "data": {
      "text/plain": "     PassengerId  Survived  Pclass                                       Name  \\\n61            62       1.0       1                        Icard, Miss. Amelie   \n829          830       1.0       1  Stone, Mrs. George Nelson (Martha Evelyn)   \n\n     Sex   Age  SibSp  Parch  Ticket  Fare Cabin Embarked  FamilySize  \n61     1  38.0      0      0  113572  80.0   B28      NaN           1  \n829    1  62.0      0      0  113572  80.0   B28      NaN           1  ",
      "text/html": "<div>\n<style scoped>\n    .dataframe tbody tr th:only-of-type {\n        vertical-align: middle;\n    }\n\n    .dataframe tbody tr th {\n        vertical-align: top;\n    }\n\n    .dataframe thead th {\n        text-align: right;\n    }\n</style>\n<table border=\"1\" class=\"dataframe\">\n  <thead>\n    <tr style=\"text-align: right;\">\n      <th></th>\n      <th>PassengerId</th>\n      <th>Survived</th>\n      <th>Pclass</th>\n      <th>Name</th>\n      <th>Sex</th>\n      <th>Age</th>\n      <th>SibSp</th>\n      <th>Parch</th>\n      <th>Ticket</th>\n      <th>Fare</th>\n      <th>Cabin</th>\n      <th>Embarked</th>\n      <th>FamilySize</th>\n    </tr>\n  </thead>\n  <tbody>\n    <tr>\n      <th>61</th>\n      <td>62</td>\n      <td>1.0</td>\n      <td>1</td>\n      <td>Icard, Miss. Amelie</td>\n      <td>1</td>\n      <td>38.0</td>\n      <td>0</td>\n      <td>0</td>\n      <td>113572</td>\n      <td>80.0</td>\n      <td>B28</td>\n      <td>NaN</td>\n      <td>1</td>\n    </tr>\n    <tr>\n      <th>829</th>\n      <td>830</td>\n      <td>1.0</td>\n      <td>1</td>\n      <td>Stone, Mrs. George Nelson (Martha Evelyn)</td>\n      <td>1</td>\n      <td>62.0</td>\n      <td>0</td>\n      <td>0</td>\n      <td>113572</td>\n      <td>80.0</td>\n      <td>B28</td>\n      <td>NaN</td>\n      <td>1</td>\n    </tr>\n  </tbody>\n</table>\n</div>"
     },
     "execution_count": 65,
     "metadata": {},
     "output_type": "execute_result"
    }
   ],
   "source": [
    "titanic_df[titanic_df['Embarked'].isnull()]"
   ],
   "metadata": {
    "collapsed": false,
    "ExecuteTime": {
     "end_time": "2024-03-20T16:43:53.889170600Z",
     "start_time": "2024-03-20T16:43:53.765473700Z"
    }
   },
   "id": "9fca88f40c996fcd",
   "execution_count": 65
  },
  {
   "cell_type": "code",
   "outputs": [],
   "source": [
    "titanic_df['Embarked'].fillna('C', inplace = True)"
   ],
   "metadata": {
    "collapsed": false,
    "ExecuteTime": {
     "end_time": "2024-03-20T16:44:26.218779100Z",
     "start_time": "2024-03-20T16:44:26.100576100Z"
    }
   },
   "id": "61461af60cea1d65",
   "execution_count": 66
  },
  {
   "cell_type": "code",
   "outputs": [],
   "source": [
    "df['Embarked'] = titanic_df['Embarked']"
   ],
   "metadata": {
    "collapsed": false,
    "ExecuteTime": {
     "end_time": "2024-03-20T16:44:55.972536400Z",
     "start_time": "2024-03-20T16:44:55.779980Z"
    }
   },
   "id": "43b789f2d8bddfa3",
   "execution_count": 67
  },
  {
   "cell_type": "markdown",
   "source": [
    "##### Name"
   ],
   "metadata": {
    "collapsed": false
   },
   "id": "235bc97a0b191b49"
  },
  {
   "cell_type": "code",
   "outputs": [],
   "source": [
    "#Separando titulo do nome\n",
    "titanic_df['Title'] = titanic_df['Name'].apply(lambda name: name.split(',')[1].split('.')[0].strip())"
   ],
   "metadata": {
    "collapsed": false,
    "ExecuteTime": {
     "end_time": "2024-03-20T16:45:59.501401300Z",
     "start_time": "2024-03-20T16:45:59.379421800Z"
    }
   },
   "id": "302451f1169e3e07",
   "execution_count": 68
  },
  {
   "cell_type": "code",
   "outputs": [
    {
     "data": {
      "text/plain": "Title\nMr              757\nMiss            260\nMrs             197\nMaster           61\nRev               8\nDr                8\nCol               4\nMlle              2\nMajor             2\nMs                2\nLady              1\nSir               1\nMme               1\nDon               1\nCapt              1\nthe Countess      1\nJonkheer          1\nDona              1\nName: count, dtype: int64"
     },
     "execution_count": 71,
     "metadata": {},
     "output_type": "execute_result"
    }
   ],
   "source": [
    "titanic_df['Title'].value_counts()"
   ],
   "metadata": {
    "collapsed": false,
    "ExecuteTime": {
     "end_time": "2024-03-20T16:46:26.773795Z",
     "start_time": "2024-03-20T16:46:26.669752100Z"
    }
   },
   "id": "be7929e53f93217d",
   "execution_count": 71
  },
  {
   "cell_type": "code",
   "outputs": [],
   "source": [
    "titanic_df['Title'] = [n if n in ['Mr', 'Miss', 'Mrs', 'Master'] else 'Person' for n in titanic_df['Title']]"
   ],
   "metadata": {
    "collapsed": false,
    "ExecuteTime": {
     "end_time": "2024-03-20T16:47:50.564336700Z",
     "start_time": "2024-03-20T16:47:50.527480900Z"
    }
   },
   "id": "1ea5220abf4808d",
   "execution_count": 72
  },
  {
   "cell_type": "code",
   "outputs": [
    {
     "data": {
      "text/plain": "Title\nMr        757\nMiss      260\nMrs       197\nMaster     61\nPerson     34\nName: count, dtype: int64"
     },
     "execution_count": 75,
     "metadata": {},
     "output_type": "execute_result"
    }
   ],
   "source": [
    "titanic_df['Title'].value_counts()"
   ],
   "metadata": {
    "collapsed": false,
    "ExecuteTime": {
     "end_time": "2024-03-20T16:48:28.748662800Z",
     "start_time": "2024-03-20T16:48:28.639824700Z"
    }
   },
   "id": "ec688e17a435581b",
   "execution_count": 75
  },
  {
   "cell_type": "code",
   "outputs": [
    {
     "name": "stdout",
     "output_type": "stream",
     "text": [
      "Quantidade de valores únicos: 5\n",
      "\n",
      "Quais são os valores únicos: ['Mr' 'Mrs' 'Miss' 'Master' 'Person']\n",
      "\n",
      "Quantidade de valores nulos: 0\n",
      "\n",
      "Quantidade por opção: \n",
      "Title\n",
      "Mr        757\n",
      "Miss      260\n",
      "Mrs       197\n",
      "Master     61\n",
      "Person     34\n",
      "Name: count, dtype: int64\n"
     ]
    },
    {
     "data": {
      "text/plain": "<Figure size 640x480 with 1 Axes>",
      "image/png": "[encoded data removed]"
     },
     "metadata": {},
     "output_type": "display_data"
    }
   ],
   "source": [
    "titanic_func(titanic_df, 'Title')"
   ],
   "metadata": {
    "collapsed": false,
    "ExecuteTime": {
     "end_time": "2024-03-20T16:51:59.638631300Z",
     "start_time": "2024-03-20T16:51:59.291246700Z"
    }
   },
   "id": "bf6c96004baef932",
   "execution_count": 77
  },
  {
   "cell_type": "code",
   "outputs": [],
   "source": [
    "df['Title'] = titanic_df['Title']"
   ],
   "metadata": {
    "collapsed": false,
    "ExecuteTime": {
     "end_time": "2024-03-20T16:52:06.024670Z",
     "start_time": "2024-03-20T16:52:05.983039800Z"
    }
   },
   "id": "e18935c478de1016",
   "execution_count": 78
  },
  {
   "cell_type": "code",
   "outputs": [],
   "source": [
    "def dummys_class(df):\n",
    "    pclass = pd.get_dummies(df['Pclass'], prefix = \"Pclass\", drop_first = True)\n",
    "    title = pd.get_dummies(df['Title'], prefix = 'Title', drop_first = True)\n",
    "    embarked = pd.get_dummies(df['Embarked'], prefix = 'Embarked', drop_first = True)\n",
    "    \n",
    "    df_complete = pd.concat([df, pclass, title, embarked], axis = 1)\n",
    "    \n",
    "    df_complete.drop(['Pclass', 'Title', 'Embarked'], axis=1, inplace=True)\n",
    "    \n",
    "    return df_complete\n",
    "\n",
    "titanic_completo = dummys_class(df)"
   ],
   "metadata": {
    "collapsed": false,
    "ExecuteTime": {
     "end_time": "2024-03-20T16:54:31.392599800Z",
     "start_time": "2024-03-20T16:54:31.258498900Z"
    }
   },
   "id": "acbbdc50ebfb3f5e",
   "execution_count": 80
  },
  {
   "cell_type": "code",
   "outputs": [
    {
     "data": {
      "text/plain": "      Survived  Sex   Age  SibSp  Parch  FamilySize      Fare  Pclass_2  \\\n0          0.0    0  22.0      1      0           2    7.2500     False   \n1          1.0    1  38.0      1      0           2   71.2833     False   \n2          1.0    1  26.0      0      0           1    7.9250     False   \n3          1.0    1  35.0      1      0           2   53.1000     False   \n4          0.0    0  35.0      0      0           1    8.0500     False   \n...        ...  ...   ...    ...    ...         ...       ...       ...   \n1304       NaN    0  25.0      0      0           1    8.0500     False   \n1305       NaN    1  39.0      0      0           1  108.9000     False   \n1306       NaN    0  38.5      0      0           1    7.2500     False   \n1307       NaN    0  25.0      0      0           1    8.0500     False   \n1308       NaN    0  25.0      1      1           3   22.3583     False   \n\n      Pclass_3  Title_Miss  Title_Mr  Title_Mrs  Title_Person  Embarked_Q  \\\n0         True       False      True      False         False       False   \n1        False       False     False       True         False       False   \n2         True        True     False      False         False       False   \n3        False       False     False       True         False       False   \n4         True       False      True      False         False       False   \n...        ...         ...       ...        ...           ...         ...   \n1304      True       False      True      False         False       False   \n1305     False       False     False      False          True       False   \n1306      True       False      True      False         False       False   \n1307      True       False      True      False         False       False   \n1308      True       False     False      False         False       False   \n\n      Embarked_S  \n0           True  \n1          False  \n2           True  \n3           True  \n4           True  \n...          ...  \n1304        True  \n1305       False  \n1306        True  \n1307        True  \n1308       False  \n\n[1309 rows x 15 columns]",
      "text/html": "<div>\n<style scoped>\n    .dataframe tbody tr th:only-of-type {\n        vertical-align: middle;\n    }\n\n    .dataframe tbody tr th {\n        vertical-align: top;\n    }\n\n    .dataframe thead th {\n        text-align: right;\n    }\n</style>\n<table border=\"1\" class=\"dataframe\">\n  <thead>\n    <tr style=\"text-align: right;\">\n      <th></th>\n      <th>Survived</th>\n      <th>Sex</th>\n      <th>Age</th>\n      <th>SibSp</th>\n      <th>Parch</th>\n      <th>FamilySize</th>\n      <th>Fare</th>\n      <th>Pclass_2</th>\n      <th>Pclass_3</th>\n      <th>Title_Miss</th>\n      <th>Title_Mr</th>\n      <th>Title_Mrs</th>\n      <th>Title_Person</th>\n      <th>Embarked_Q</th>\n      <th>Embarked_S</th>\n    </tr>\n  </thead>\n  <tbody>\n    <tr>\n      <th>0</th>\n      <td>0.0</td>\n      <td>0</td>\n      <td>22.0</td>\n      <td>1</td>\n      <td>0</td>\n      <td>2</td>\n      <td>7.2500</td>\n      <td>False</td>\n      <td>True</td>\n      <td>False</td>\n      <td>True</td>\n      <td>False</td>\n      <td>False</td>\n      <td>False</td>\n      <td>True</td>\n    </tr>\n    <tr>\n      <th>1</th>\n      <td>1.0</td>\n      <td>1</td>\n      <td>38.0</td>\n      <td>1</td>\n      <td>0</td>\n      <td>2</td>\n      <td>71.2833</td>\n      <td>False</td>\n      <td>False</td>\n      <td>False</td>\n      <td>False</td>\n      <td>True</td>\n      <td>False</td>\n      <td>False</td>\n      <td>False</td>\n    </tr>\n    <tr>\n      <th>2</th>\n      <td>1.0</td>\n      <td>1</td>\n      <td>26.0</td>\n      <td>0</td>\n      <td>0</td>\n      <td>1</td>\n      <td>7.9250</td>\n      <td>False</td>\n      <td>True</td>\n      <td>True</td>\n      <td>False</td>\n      <td>False</td>\n      <td>False</td>\n      <td>False</td>\n      <td>True</td>\n    </tr>\n    <tr>\n      <th>3</th>\n      <td>1.0</td>\n      <td>1</td>\n      <td>35.0</td>\n      <td>1</td>\n      <td>0</td>\n      <td>2</td>\n      <td>53.1000</td>\n      <td>False</td>\n      <td>False</td>\n      <td>False</td>\n      <td>False</td>\n      <td>True</td>\n      <td>False</td>\n      <td>False</td>\n      <td>True</td>\n    </tr>\n    <tr>\n      <th>4</th>\n      <td>0.0</td>\n      <td>0</td>\n      <td>35.0</td>\n      <td>0</td>\n      <td>0</td>\n      <td>1</td>\n      <td>8.0500</td>\n      <td>False</td>\n      <td>True</td>\n      <td>False</td>\n      <td>True</td>\n      <td>False</td>\n      <td>False</td>\n      <td>False</td>\n      <td>True</td>\n    </tr>\n    <tr>\n      <th>...</th>\n      <td>...</td>\n      <td>...</td>\n      <td>...</td>\n      <td>...</td>\n      <td>...</td>\n      <td>...</td>\n      <td>...</td>\n      <td>...</td>\n      <td>...</td>\n      <td>...</td>\n      <td>...</td>\n      <td>...</td>\n      <td>...</td>\n      <td>...</td>\n      <td>...</td>\n    </tr>\n    <tr>\n      <th>1304</th>\n      <td>NaN</td>\n      <td>0</td>\n      <td>25.0</td>\n      <td>0</td>\n      <td>0</td>\n      <td>1</td>\n      <td>8.0500</td>\n      <td>False</td>\n      <td>True</td>\n      <td>False</td>\n      <td>True</td>\n      <td>False</td>\n      <td>False</td>\n      <td>False</td>\n      <td>True</td>\n    </tr>\n    <tr>\n      <th>1305</th>\n      <td>NaN</td>\n      <td>1</td>\n      <td>39.0</td>\n      <td>0</td>\n      <td>0</td>\n      <td>1</td>\n      <td>108.9000</td>\n      <td>False</td>\n      <td>False</td>\n      <td>False</td>\n      <td>False</td>\n      <td>False</td>\n      <td>True</td>\n      <td>False</td>\n      <td>False</td>\n    </tr>\n    <tr>\n      <th>1306</th>\n      <td>NaN</td>\n      <td>0</td>\n      <td>38.5</td>\n      <td>0</td>\n      <td>0</td>\n      <td>1</td>\n      <td>7.2500</td>\n      <td>False</td>\n      <td>True</td>\n      <td>False</td>\n      <td>True</td>\n      <td>False</td>\n      <td>False</td>\n      <td>False</td>\n      <td>True</td>\n    </tr>\n    <tr>\n      <th>1307</th>\n      <td>NaN</td>\n      <td>0</td>\n      <td>25.0</td>\n      <td>0</td>\n      <td>0</td>\n      <td>1</td>\n      <td>8.0500</td>\n      <td>False</td>\n      <td>True</td>\n      <td>False</td>\n      <td>True</td>\n      <td>False</td>\n      <td>False</td>\n      <td>False</td>\n      <td>True</td>\n    </tr>\n    <tr>\n      <th>1308</th>\n      <td>NaN</td>\n      <td>0</td>\n      <td>25.0</td>\n      <td>1</td>\n      <td>1</td>\n      <td>3</td>\n      <td>22.3583</td>\n      <td>False</td>\n      <td>True</td>\n      <td>False</td>\n      <td>False</td>\n      <td>False</td>\n      <td>False</td>\n      <td>False</td>\n      <td>False</td>\n    </tr>\n  </tbody>\n</table>\n<p>1309 rows × 15 columns</p>\n</div>"
     },
     "execution_count": 81,
     "metadata": {},
     "output_type": "execute_result"
    }
   ],
   "source": [
    "titanic_completo"
   ],
   "metadata": {
    "collapsed": false,
    "ExecuteTime": {
     "end_time": "2024-03-20T16:54:43.357959400Z",
     "start_time": "2024-03-20T16:54:43.222884800Z"
    }
   },
   "id": "c622ab87b41bfcf9",
   "execution_count": 81
  },
  {
   "cell_type": "markdown",
   "source": [
    "### Modelo"
   ],
   "metadata": {
    "collapsed": false
   },
   "id": "a30573838002ffa5"
  },
  {
   "cell_type": "code",
   "outputs": [],
   "source": [
    "train = titanic_completo[:train_index].copy()\n",
    "test = titanic_completo[test_index:].copy()"
   ],
   "metadata": {
    "collapsed": false,
    "ExecuteTime": {
     "end_time": "2024-03-20T17:08:15.152740900Z",
     "start_time": "2024-03-20T17:08:15.084800500Z"
    }
   },
   "id": "7ebb64eaa46c6f9c",
   "execution_count": 82
  },
  {
   "cell_type": "code",
   "outputs": [
    {
     "name": "stdout",
     "output_type": "stream",
     "text": [
      "<class 'pandas.core.frame.DataFrame'>\n",
      "RangeIndex: 891 entries, 0 to 890\n",
      "Data columns (total 15 columns):\n",
      " #   Column        Non-Null Count  Dtype  \n",
      "---  ------        --------------  -----  \n",
      " 0   Survived      891 non-null    float64\n",
      " 1   Sex           891 non-null    int64  \n",
      " 2   Age           891 non-null    float64\n",
      " 3   SibSp         891 non-null    int64  \n",
      " 4   Parch         891 non-null    int64  \n",
      " 5   FamilySize    891 non-null    int64  \n",
      " 6   Fare          891 non-null    float64\n",
      " 7   Pclass_2      891 non-null    bool   \n",
      " 8   Pclass_3      891 non-null    bool   \n",
      " 9   Title_Miss    891 non-null    bool   \n",
      " 10  Title_Mr      891 non-null    bool   \n",
      " 11  Title_Mrs     891 non-null    bool   \n",
      " 12  Title_Person  891 non-null    bool   \n",
      " 13  Embarked_Q    891 non-null    bool   \n",
      " 14  Embarked_S    891 non-null    bool   \n",
      "dtypes: bool(8), float64(3), int64(4)\n",
      "memory usage: 55.8 KB\n"
     ]
    }
   ],
   "source": [
    "train.info()"
   ],
   "metadata": {
    "collapsed": false,
    "ExecuteTime": {
     "end_time": "2024-03-20T17:08:35.204087500Z",
     "start_time": "2024-03-20T17:08:35.061237500Z"
    }
   },
   "id": "161b9b8bd646e84c",
   "execution_count": 83
  },
  {
   "cell_type": "code",
   "outputs": [],
   "source": [
    "train['Survived'] = train['Survived'].astype(int)"
   ],
   "metadata": {
    "collapsed": false,
    "ExecuteTime": {
     "end_time": "2024-03-20T17:08:45.180281500Z",
     "start_time": "2024-03-20T17:08:45.041655700Z"
    }
   },
   "id": "afb871f8c04c4023",
   "execution_count": 84
  },
  {
   "cell_type": "code",
   "outputs": [],
   "source": [
    "X = train.drop('Survived', axis = 1)\n",
    "y = train['Survived']\n",
    "\n",
    "X_test = test.drop('Survived', axis = 1)"
   ],
   "metadata": {
    "collapsed": false,
    "ExecuteTime": {
     "end_time": "2024-03-20T17:09:07.206615200Z",
     "start_time": "2024-03-20T17:09:07.061555300Z"
    }
   },
   "id": "108ed40d2eacc7ef",
   "execution_count": 86
  },
  {
   "cell_type": "code",
   "outputs": [],
   "source": [
    "# Função que processa o Algoritmo e retorna a acurácia\n",
    "def func_acuracia(algoritmo, X_train, y_train, vc):\n",
    "    modelo = algoritmo.fit(X_train, y_train)\n",
    "    acuracia = round(modelo.score(X_train, y_train) * 100, 2)\n",
    "    \n",
    "    train_pred = model_selection.cross_val_predict(algoritmo, X_train, y_train, cv = vc, n_jobs = -1)    \n",
    "    acuracia_vc = round(metrics.accuracy_score(y_train, train_pred) * 100, 2)\n",
    "    \n",
    "    return acuracia, acuracia_vc"
   ],
   "metadata": {
    "collapsed": false,
    "ExecuteTime": {
     "end_time": "2024-03-20T17:10:18.869217300Z",
     "start_time": "2024-03-20T17:10:18.742841700Z"
    }
   },
   "id": "58b5a72b86439c79",
   "execution_count": 87
  },
  {
   "cell_type": "markdown",
   "source": [
    "##### Random Forest"
   ],
   "metadata": {
    "collapsed": false
   },
   "id": "34dac501c1be9a9e"
  },
  {
   "cell_type": "code",
   "outputs": [
    {
     "name": "stdout",
     "output_type": "stream",
     "text": [
      "Acurácia: 98.32\n",
      "Acurácia Validação Cruzada: 80.36\n"
     ]
    }
   ],
   "source": [
    "acc_rf, acc_vc_rf = func_acuracia(RandomForestClassifier(), X, y, 10)\n",
    "\n",
    "print(f\"Acurácia: {acc_rf}\")\n",
    "print(f\"Acurácia Validação Cruzada: {acc_vc_rf}\")"
   ],
   "metadata": {
    "collapsed": false,
    "ExecuteTime": {
     "end_time": "2024-03-20T17:10:53.631738200Z",
     "start_time": "2024-03-20T17:10:41.780878500Z"
    }
   },
   "id": "e2dbc804cbf23a83",
   "execution_count": 88
  },
  {
   "cell_type": "markdown",
   "source": [
    "##### Logistic regression"
   ],
   "metadata": {
    "collapsed": false
   },
   "id": "82455bc49d51ac0c"
  },
  {
   "cell_type": "code",
   "outputs": [
    {
     "name": "stdout",
     "output_type": "stream",
     "text": [
      "Acurácia: 82.94\n",
      "Acurácia Validação Cruzada: 82.38\n"
     ]
    }
   ],
   "source": [
    "acc_log, acc_vc_log = func_acuracia(LogisticRegression(max_iter=1000), X, y, 10)\n",
    "\n",
    "print(f\"Acurácia: {acc_log}\")\n",
    "print(f\"Acurácia Validação Cruzada: {acc_vc_log}\")"
   ],
   "metadata": {
    "collapsed": false,
    "ExecuteTime": {
     "end_time": "2024-03-20T17:11:09.644840100Z",
     "start_time": "2024-03-20T17:11:08.185049400Z"
    }
   },
   "id": "cf03b72dd0c3da81",
   "execution_count": 89
  },
  {
   "cell_type": "markdown",
   "source": [
    "##### K-Nearest Neighbours"
   ],
   "metadata": {
    "collapsed": false
   },
   "id": "db8e0be1cf71dfcf"
  },
  {
   "cell_type": "code",
   "outputs": [
    {
     "name": "stdout",
     "output_type": "stream",
     "text": [
      "Acurácia: 80.81\n",
      "Acurácia Validação Cruzada: 72.39\n"
     ]
    }
   ],
   "source": [
    "acc_knn, acc_vc_knn = func_acuracia(KNeighborsClassifier(), X, y, 10)\n",
    "\n",
    "print(f\"Acurácia: {acc_knn}\")\n",
    "print(f\"Acurácia Validação Cruzada: {acc_vc_knn}\")"
   ],
   "metadata": {
    "collapsed": false,
    "ExecuteTime": {
     "end_time": "2024-03-20T17:12:40.391651Z",
     "start_time": "2024-03-20T17:12:40.156620100Z"
    }
   },
   "id": "265bff3c33b53fc2",
   "execution_count": 90
  },
  {
   "cell_type": "markdown",
   "source": [
    "##### Gaussian Naive Bayes"
   ],
   "metadata": {
    "collapsed": false
   },
   "id": "f5b58b87bc2229fe"
  },
  {
   "cell_type": "code",
   "outputs": [
    {
     "name": "stdout",
     "output_type": "stream",
     "text": [
      "Acurácia: 78.79\n",
      "Acurácia Validação Cruzada: 78.56\n"
     ]
    }
   ],
   "source": [
    "acc_gaussian, acc_vc_gaussian = func_acuracia(GaussianNB(), X, y, 10)\n",
    "\n",
    "print(f\"Acurácia: {acc_gaussian}\")\n",
    "print(f\"Acurácia Validação Cruzada: {acc_vc_gaussian}\")"
   ],
   "metadata": {
    "collapsed": false,
    "ExecuteTime": {
     "end_time": "2024-03-20T17:13:01.198312400Z",
     "start_time": "2024-03-20T17:13:01.016658200Z"
    }
   },
   "id": "fc5605ed6b0cb1e4",
   "execution_count": 91
  },
  {
   "cell_type": "markdown",
   "source": [
    "##### Linear Support Vector Machines (SVC)"
   ],
   "metadata": {
    "collapsed": false
   },
   "id": "a60b78806a7acd96"
  },
  {
   "cell_type": "code",
   "outputs": [
    {
     "name": "stdout",
     "output_type": "stream",
     "text": [
      "Acurácia: 83.28\n",
      "Acurácia Validação Cruzada: 82.72\n"
     ]
    }
   ],
   "source": [
    "acc_linear_svc, acc_vc_linear_svc = func_acuracia(LinearSVC(dual=False), X, y, 10)\n",
    "\n",
    "print(f\"Acurácia: {acc_linear_svc}\")\n",
    "print(f\"Acurácia Validação Cruzada: {acc_vc_linear_svc}\")"
   ],
   "metadata": {
    "collapsed": false,
    "ExecuteTime": {
     "end_time": "2024-03-20T17:13:18.684764200Z",
     "start_time": "2024-03-20T17:13:18.496441100Z"
    }
   },
   "id": "ec7d6ea63eae5f3c",
   "execution_count": 92
  },
  {
   "cell_type": "markdown",
   "source": [
    "##### Stochastic Gradient Descent"
   ],
   "metadata": {
    "collapsed": false
   },
   "id": "d214be30cf7558ba"
  },
  {
   "cell_type": "code",
   "outputs": [
    {
     "name": "stdout",
     "output_type": "stream",
     "text": [
      "Acurácia: 64.87\n",
      "Acurácia Validação Cruzada: 74.19\n"
     ]
    }
   ],
   "source": [
    "acc_sgd, acc_vc_sgd = func_acuracia(SGDClassifier(), X, y, 10)\n",
    "\n",
    "print(f\"Acurácia: {acc_sgd}\")\n",
    "print(f\"Acurácia Validação Cruzada: {acc_vc_sgd}\")"
   ],
   "metadata": {
    "collapsed": false,
    "ExecuteTime": {
     "end_time": "2024-03-20T17:13:38.609598500Z",
     "start_time": "2024-03-20T17:13:38.392851100Z"
    }
   },
   "id": "31fe37b41c5e593c",
   "execution_count": 93
  },
  {
   "cell_type": "markdown",
   "source": [
    "##### Decision Tree Classifier"
   ],
   "metadata": {
    "collapsed": false
   },
   "id": "ecb3347a8650d85d"
  },
  {
   "cell_type": "code",
   "outputs": [
    {
     "name": "stdout",
     "output_type": "stream",
     "text": [
      "Acurácia: 98.32\n",
      "Acurácia Validação Cruzada: 78.68\n"
     ]
    }
   ],
   "source": [
    "acc_dt, acc_vc_dt = func_acuracia(DecisionTreeClassifier(), X, y, 10)\n",
    "\n",
    "print(f\"Acurácia: {acc_dt}\")\n",
    "print(f\"Acurácia Validação Cruzada: {acc_vc_dt}\")"
   ],
   "metadata": {
    "collapsed": false,
    "ExecuteTime": {
     "end_time": "2024-03-20T17:14:00.292518500Z",
     "start_time": "2024-03-20T17:14:00.091501500Z"
    }
   },
   "id": "6c661c8bf8b14a84",
   "execution_count": 94
  },
  {
   "cell_type": "markdown",
   "source": [
    "##### Gradient Boost Trees"
   ],
   "metadata": {
    "collapsed": false
   },
   "id": "320fc9e693607834"
  },
  {
   "cell_type": "code",
   "outputs": [
    {
     "name": "stdout",
     "output_type": "stream",
     "text": [
      "Acurácia: 89.67\n",
      "Acurácia Validação Cruzada: 83.05\n"
     ]
    }
   ],
   "source": [
    "acc_gbt, acc_vc_gbt = func_acuracia(GradientBoostingClassifier(), X, y, 10)\n",
    "\n",
    "print(f\"Acurácia: {acc_gbt}\")\n",
    "print(f\"Acurácia Validação Cruzada: {acc_vc_gbt}\")"
   ],
   "metadata": {
    "collapsed": false,
    "ExecuteTime": {
     "end_time": "2024-03-20T17:21:03.988852200Z",
     "start_time": "2024-03-20T17:20:56.592133100Z"
    }
   },
   "id": "f52dae5af773d4e5",
   "execution_count": 96
  },
  {
   "cell_type": "markdown",
   "source": [
    "##### Parametros"
   ],
   "metadata": {
    "collapsed": false
   },
   "id": "e11241553ac2ce45"
  },
  {
   "cell_type": "code",
   "outputs": [],
   "source": [
    "params = dict(     \n",
    "    max_depth = [n for n in range(1, 5)],     \n",
    "    min_samples_split = [n for n in range(2, 6)], \n",
    "    min_samples_leaf = [n for n in range(2, 6)],     \n",
    "    n_estimators = [n for n in range(10, 50, 10)],\n",
    ")"
   ],
   "metadata": {
    "collapsed": false,
    "ExecuteTime": {
     "end_time": "2024-03-20T17:21:57.641885400Z",
     "start_time": "2024-03-20T17:21:57.546243700Z"
    }
   },
   "id": "a6bd62dfbae1e300",
   "execution_count": 97
  },
  {
   "cell_type": "code",
   "outputs": [],
   "source": [
    "gbc = GradientBoostingClassifier()"
   ],
   "metadata": {
    "collapsed": false,
    "ExecuteTime": {
     "end_time": "2024-03-20T17:22:12.126556800Z",
     "start_time": "2024-03-20T17:22:11.955048400Z"
    }
   },
   "id": "e5477d3170fdd5fe",
   "execution_count": 98
  },
  {
   "cell_type": "code",
   "outputs": [
    {
     "data": {
      "text/plain": "GridSearchCV(cv=10, estimator=GradientBoostingClassifier(),\n             param_grid={'max_depth': [1, 2, 3, 4],\n                         'min_samples_leaf': [2, 3, 4, 5],\n                         'min_samples_split': [2, 3, 4, 5],\n                         'n_estimators': [10, 20, 30, 40]})",
      "text/html": "<style>#sk-container-id-1 {color: black;}#sk-container-id-1 pre{padding: 0;}#sk-container-id-1 div.sk-toggleable {background-color: white;}#sk-container-id-1 label.sk-toggleable__label {cursor: pointer;display: block;width: 100%;margin-bottom: 0;padding: 0.3em;box-sizing: border-box;text-align: center;}#sk-container-id-1 label.sk-toggleable__label-arrow:before {content: \"▸\";float: left;margin-right: 0.25em;color: #696969;}#sk-container-id-1 label.sk-toggleable__label-arrow:hover:before {color: black;}#sk-container-id-1 div.sk-estimator:hover label.sk-toggleable__label-arrow:before {color: black;}#sk-container-id-1 div.sk-toggleable__content {max-height: 0;max-width: 0;overflow: hidden;text-align: left;background-color: #f0f8ff;}#sk-container-id-1 div.sk-toggleable__content pre {margin: 0.2em;color: black;border-radius: 0.25em;background-color: #f0f8ff;}#sk-container-id-1 input.sk-toggleable__control:checked~div.sk-toggleable__content {max-height: 200px;max-width: 100%;overflow: auto;}#sk-container-id-1 input.sk-toggleable__control:checked~label.sk-toggleable__label-arrow:before {content: \"▾\";}#sk-container-id-1 div.sk-estimator input.sk-toggleable__control:checked~label.sk-toggleable__label {background-color: #d4ebff;}#sk-container-id-1 div.sk-label input.sk-toggleable__control:checked~label.sk-toggleable__label {background-color: #d4ebff;}#sk-container-id-1 input.sk-hidden--visually {border: 0;clip: rect(1px 1px 1px 1px);clip: rect(1px, 1px, 1px, 1px);height: 1px;margin: -1px;overflow: hidden;padding: 0;position: absolute;width: 1px;}#sk-container-id-1 div.sk-estimator {font-family: monospace;background-color: #f0f8ff;border: 1px dotted black;border-radius: 0.25em;box-sizing: border-box;margin-bottom: 0.5em;}#sk-container-id-1 div.sk-estimator:hover {background-color: #d4ebff;}#sk-container-id-1 div.sk-parallel-item::after {content: \"\";width: 100%;border-bottom: 1px solid gray;flex-grow: 1;}#sk-container-id-1 div.sk-label:hover label.sk-toggleable__label {background-color: #d4ebff;}#sk-container-id-1 div.sk-serial::before {content: \"\";position: absolute;border-left: 1px solid gray;box-sizing: border-box;top: 0;bottom: 0;left: 50%;z-index: 0;}#sk-container-id-1 div.sk-serial {display: flex;flex-direction: column;align-items: center;background-color: white;padding-right: 0.2em;padding-left: 0.2em;position: relative;}#sk-container-id-1 div.sk-item {position: relative;z-index: 1;}#sk-container-id-1 div.sk-parallel {display: flex;align-items: stretch;justify-content: center;background-color: white;position: relative;}#sk-container-id-1 div.sk-item::before, #sk-container-id-1 div.sk-parallel-item::before {content: \"\";position: absolute;border-left: 1px solid gray;box-sizing: border-box;top: 0;bottom: 0;left: 50%;z-index: -1;}#sk-container-id-1 div.sk-parallel-item {display: flex;flex-direction: column;z-index: 1;position: relative;background-color: white;}#sk-container-id-1 div.sk-parallel-item:first-child::after {align-self: flex-end;width: 50%;}#sk-container-id-1 div.sk-parallel-item:last-child::after {align-self: flex-start;width: 50%;}#sk-container-id-1 div.sk-parallel-item:only-child::after {width: 0;}#sk-container-id-1 div.sk-dashed-wrapped {border: 1px dashed gray;margin: 0 0.4em 0.5em 0.4em;box-sizing: border-box;padding-bottom: 0.4em;background-color: white;}#sk-container-id-1 div.sk-label label {font-family: monospace;font-weight: bold;display: inline-block;line-height: 1.2em;}#sk-container-id-1 div.sk-label-container {text-align: center;}#sk-container-id-1 div.sk-container {/* jupyter's `normalize.less` sets `[hidden] { display: none; }` but bootstrap.min.css set `[hidden] { display: none !important; }` so we also need the `!important` here to be able to override the default hidden behavior on the sphinx rendered scikit-learn.org. See: https://github.com/scikit-learn/scikit-learn/issues/21755 */display: inline-block !important;position: relative;}#sk-container-id-1 div.sk-text-repr-fallback {display: none;}</style><div id=\"sk-container-id-1\" class=\"sk-top-container\"><div class=\"sk-text-repr-fallback\"><pre>GridSearchCV(cv=10, estimator=GradientBoostingClassifier(),\n             param_grid={&#x27;max_depth&#x27;: [1, 2, 3, 4],\n                         &#x27;min_samples_leaf&#x27;: [2, 3, 4, 5],\n                         &#x27;min_samples_split&#x27;: [2, 3, 4, 5],\n                         &#x27;n_estimators&#x27;: [10, 20, 30, 40]})</pre><b>In a Jupyter environment, please rerun this cell to show the HTML representation or trust the notebook. <br />On GitHub, the HTML representation is unable to render, please try loading this page with nbviewer.org.</b></div><div class=\"sk-container\" hidden><div class=\"sk-item sk-dashed-wrapped\"><div class=\"sk-label-container\"><div class=\"sk-label sk-toggleable\"><input class=\"sk-toggleable__control sk-hidden--visually\" id=\"sk-estimator-id-1\" type=\"checkbox\" ><label for=\"sk-estimator-id-1\" class=\"sk-toggleable__label sk-toggleable__label-arrow\">GridSearchCV</label><div class=\"sk-toggleable__content\"><pre>GridSearchCV(cv=10, estimator=GradientBoostingClassifier(),\n             param_grid={&#x27;max_depth&#x27;: [1, 2, 3, 4],\n                         &#x27;min_samples_leaf&#x27;: [2, 3, 4, 5],\n                         &#x27;min_samples_split&#x27;: [2, 3, 4, 5],\n                         &#x27;n_estimators&#x27;: [10, 20, 30, 40]})</pre></div></div></div><div class=\"sk-parallel\"><div class=\"sk-parallel-item\"><div class=\"sk-item\"><div class=\"sk-label-container\"><div class=\"sk-label sk-toggleable\"><input class=\"sk-toggleable__control sk-hidden--visually\" id=\"sk-estimator-id-2\" type=\"checkbox\" ><label for=\"sk-estimator-id-2\" class=\"sk-toggleable__label sk-toggleable__label-arrow\">estimator: GradientBoostingClassifier</label><div class=\"sk-toggleable__content\"><pre>GradientBoostingClassifier()</pre></div></div></div><div class=\"sk-serial\"><div class=\"sk-item\"><div class=\"sk-estimator sk-toggleable\"><input class=\"sk-toggleable__control sk-hidden--visually\" id=\"sk-estimator-id-3\" type=\"checkbox\" ><label for=\"sk-estimator-id-3\" class=\"sk-toggleable__label sk-toggleable__label-arrow\">GradientBoostingClassifier</label><div class=\"sk-toggleable__content\"><pre>GradientBoostingClassifier()</pre></div></div></div></div></div></div></div></div></div></div>"
     },
     "execution_count": 99,
     "metadata": {},
     "output_type": "execute_result"
    }
   ],
   "source": [
    "gbc_cv = GridSearchCV(estimator = gbc, param_grid = params, cv = 10) \n",
    "gbc_cv.fit(X, y)"
   ],
   "metadata": {
    "collapsed": false,
    "ExecuteTime": {
     "end_time": "2024-03-20T17:24:42.153170Z",
     "start_time": "2024-03-20T17:22:17.233019500Z"
    }
   },
   "id": "24473f59d924afd6",
   "execution_count": 99
  },
  {
   "cell_type": "code",
   "outputs": [
    {
     "name": "stdout",
     "output_type": "stream",
     "text": [
      "Melhor pontuação: 0.8485143570536829\n",
      "Melhores parâmetros: GradientBoostingClassifier(max_depth=4, min_samples_leaf=2, n_estimators=30)\n"
     ]
    }
   ],
   "source": [
    "print(f\"Melhor pontuação: {gbc_cv.best_score_}\")\n",
    "print(f\"Melhores parâmetros: {gbc_cv.best_estimator_}\")"
   ],
   "metadata": {
    "collapsed": false,
    "ExecuteTime": {
     "end_time": "2024-03-20T17:25:49.116593300Z",
     "start_time": "2024-03-20T17:25:49.073644900Z"
    }
   },
   "id": "90b36a6ade3a6b1c",
   "execution_count": 100
  },
  {
   "cell_type": "code",
   "outputs": [],
   "source": [
    "gradientBoostingClassifier_pred = gbc_cv.predict(X_test)"
   ],
   "metadata": {
    "collapsed": false,
    "ExecuteTime": {
     "end_time": "2024-03-20T17:25:51.454687400Z",
     "start_time": "2024-03-20T17:25:51.366452200Z"
    }
   },
   "id": "7f276edbfb68a9ca",
   "execution_count": 101
  },
  {
   "cell_type": "code",
   "outputs": [],
   "source": [
    "kaggle = pd.DataFrame({'PassengerId': passengerId, 'Survived': gradientBoostingClassifier_pred})\n",
    "# save to csv\n",
    "kaggle.to_csv('Arquivos/titanic_gradient_boosting_pred.csv', index=False)"
   ],
   "metadata": {
    "collapsed": false,
    "ExecuteTime": {
     "end_time": "2024-03-20T17:25:53.621350900Z",
     "start_time": "2024-03-20T17:25:53.525170Z"
    }
   },
   "id": "d3eebd7879ce9df",
   "execution_count": 102
  }
 ],
 "metadata": {
  "kernelspec": {
   "display_name": "Python 3",
   "language": "python",
   "name": "python3"
  },
  "language_info": {
   "codemirror_mode": {
    "name": "ipython",
    "version": 2
   },
   "file_extension": ".py",
   "mimetype": "text/x-python",
   "name": "python",
   "nbconvert_exporter": "python",
   "pygments_lexer": "ipython2",
   "version": "2.7.6"
  }
 },
 "nbformat": 4,
 "nbformat_minor": 5
}
