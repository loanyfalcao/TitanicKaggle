{
 "cells": [
  {
   "cell_type": "markdown",
   "source": [
    "survival - 0 = No, 1 = Yes\n",
    "pclass\t- 1 = 1st, 2 = 2nd, 3 = 3rd\n",
    "sex\n",
    "Age\t\n",
    "sibsp\t# of siblings / spouses aboard the Titanic\t\n",
    "parch\t# of parents / children aboard the Titanic\t\n",
    "ticket\n",
    "fare\tprice\t\n",
    "cabin\tCabin number\t\n",
    "embarked\tPort of Embarkation\tC = Cherbourg, Q = Queenstown, S = Southampton"
   ],
   "metadata": {
    "collapsed": false
   },
   "id": "ec88af0986d05e90"
  },
  {
   "cell_type": "code",
   "execution_count": 1,
   "id": "initial_id",
   "metadata": {
    "collapsed": true,
    "ExecuteTime": {
     "end_time": "2024-03-20T11:00:49.571682400Z",
     "start_time": "2024-03-20T11:00:49.566365300Z"
    }
   },
   "outputs": [],
   "source": [
    "import pandas as pd\n",
    "import numpy as np"
   ]
  },
  {
   "cell_type": "code",
   "outputs": [],
   "source": [
    "train = pd.read_csv('Arquivos/train.csv')\n",
    "test = pd.read_csv('Arquivos/test.csv')"
   ],
   "metadata": {
    "collapsed": false,
    "ExecuteTime": {
     "end_time": "2024-03-20T11:00:50.089373800Z",
     "start_time": "2024-03-20T11:00:50.057773100Z"
    }
   },
   "id": "5f23f0ff29651bde",
   "execution_count": 2
  },
  {
   "cell_type": "markdown",
   "source": [
    "Transform sex to binary"
   ],
   "metadata": {
    "collapsed": false
   },
   "id": "bd1ea85b7182e648"
  },
  {
   "cell_type": "code",
   "outputs": [],
   "source": [
    "def gender_passengers(value):\n",
    "    if value == 'female':\n",
    "        return 1\n",
    "    else:\n",
    "        return 0\n",
    "    \n",
    "train['Sex_Binary'] = train['Sex'].map(gender_passengers)\n",
    "test['Sex_Binary'] = test['Sex'].map(gender_passengers)"
   ],
   "metadata": {
    "collapsed": false,
    "ExecuteTime": {
     "end_time": "2024-03-20T11:00:52.545239700Z",
     "start_time": "2024-03-20T11:00:52.533553600Z"
    }
   },
   "id": "ae0bc9ff0227e92c",
   "execution_count": 3
  },
  {
   "cell_type": "markdown",
   "source": "## First Model - Gender and Age (RandomForestClassifier)",
   "metadata": {
    "collapsed": false
   },
   "id": "d5c841017de570e7"
  },
  {
   "cell_type": "code",
   "outputs": [],
   "source": [
    "variaveis = ['Sex_Binary', 'Age']\n",
    "X_train = train[variaveis]\n",
    "X_train = X_train.fillna(-1)\n",
    "\n",
    "y_train = train['Survived']\n",
    "\n",
    "X_test = test[variaveis]\n",
    "X_test = X_test.fillna(-1)"
   ],
   "metadata": {
    "collapsed": false,
    "ExecuteTime": {
     "end_time": "2024-03-20T12:01:41.219780700Z",
     "start_time": "2024-03-20T12:01:41.205308500Z"
    }
   },
   "id": "98c7217580a6cebb",
   "execution_count": 45
  },
  {
   "cell_type": "markdown",
   "source": [
    "O modelo solicita o numero de arvores, que é interessante ser no minimo 100."
   ],
   "metadata": {
    "collapsed": false
   },
   "id": "626d1314cf6f81df"
  },
  {
   "cell_type": "code",
   "outputs": [
    {
     "data": {
      "text/plain": "array([0, 1, 0, 1, 1, 0, 1, 0, 1, 0, 0, 0, 1, 0, 1, 1, 0, 0, 1, 0, 0, 1,\n       1, 0, 1, 0, 1, 0, 0, 0, 0, 0, 1, 1, 0, 0, 1, 1, 0, 0, 0, 0, 0, 1,\n       0, 0, 0, 0, 1, 1, 0, 1, 0, 1, 0, 0, 0, 0, 0, 1, 0, 0, 0, 1, 1, 1,\n       1, 0, 0, 1, 1, 0, 1, 0, 1, 0, 0, 1, 0, 1, 1, 0, 1, 0, 0, 0, 1, 1,\n       1, 0, 1, 0, 1, 0, 0, 0, 1, 0, 0, 0, 1, 1, 0, 0, 1, 0, 0, 0, 0, 0,\n       0, 1, 1, 1, 1, 0, 0, 1, 0, 1, 0, 0, 1, 0, 0, 1, 0, 1, 0, 0, 0, 0,\n       1, 0, 0, 0, 0, 0, 1, 0, 0, 1, 0, 0, 0, 0, 0, 0, 0, 0, 1, 0, 0, 1,\n       1, 0, 1, 1, 0, 1, 1, 0, 1, 0, 0, 1, 1, 0, 1, 1, 0, 1, 0, 0, 0, 1,\n       0, 0, 1, 1, 0, 0, 1, 0, 1, 0, 1, 0, 1, 0, 0, 0, 0, 0, 0, 0, 1, 1,\n       0, 1, 1, 1, 0, 1, 0, 0, 1, 0, 1, 0, 0, 0, 0, 1, 1, 0, 1, 0, 1, 0,\n       1, 0, 1, 0, 1, 1, 0, 1, 0, 0, 0, 1, 0, 0, 0, 0, 0, 0, 1, 1, 1, 0,\n       0, 0, 0, 0, 1, 0, 1, 1, 1, 0, 1, 0, 0, 0, 0, 0, 1, 0, 0, 0, 1, 1,\n       0, 0, 0, 0, 1, 0, 0, 0, 1, 1, 0, 0, 0, 0, 0, 0, 1, 1, 1, 0, 0, 0,\n       0, 0, 0, 0, 0, 1, 0, 0, 0, 0, 1, 0, 0, 0, 0, 0, 0, 0, 1, 1, 0, 1,\n       0, 0, 0, 0, 0, 0, 1, 1, 0, 0, 1, 0, 0, 0, 0, 0, 1, 0, 0, 0, 0, 0,\n       1, 0, 0, 1, 1, 0, 0, 0, 0, 0, 0, 0, 0, 1, 0, 1, 0, 1, 0, 1, 0, 0,\n       0, 1, 1, 0, 1, 0, 0, 1, 0, 1, 1, 1, 0, 1, 0, 1, 0, 0, 0, 1, 1, 0,\n       1, 0, 1, 0, 0, 0, 0, 0, 1, 1, 0, 1, 0, 0, 0, 1, 0, 1, 1, 0, 0, 1,\n       0, 1, 0, 0, 1, 0, 1, 0, 0, 0, 0, 0, 1, 0, 1, 0, 1, 0, 1, 0, 0, 0],\n      dtype=int64)"
     },
     "execution_count": 23,
     "metadata": {},
     "output_type": "execute_result"
    }
   ],
   "source": [
    "from sklearn.ensemble import RandomForestClassifier\n",
    "modelo = RandomForestClassifier(n_estimators=100, n_jobs=-1, random_state=0)\n",
    "modelo.fit(X_train, y_train)\n",
    "\n",
    "y_previsto = modelo.predict(X_test)\n",
    "y_previsto"
   ],
   "metadata": {
    "collapsed": false,
    "ExecuteTime": {
     "end_time": "2024-03-20T09:03:23.178382200Z",
     "start_time": "2024-03-20T09:03:22.684664Z"
    }
   },
   "id": "fb3840655d3937fe",
   "execution_count": 23
  },
  {
   "cell_type": "code",
   "outputs": [],
   "source": [
    "sub = pd.Series(y_previsto, index=test['PassengerId'], name='Survived')\n",
    "sub.to_csv('Arquivos/first_test.csv')"
   ],
   "metadata": {
    "collapsed": false,
    "ExecuteTime": {
     "end_time": "2024-03-20T09:08:26.491825800Z",
     "start_time": "2024-03-20T09:08:26.457232100Z"
    }
   },
   "id": "97298b4e3ac13f74",
   "execution_count": 26
  },
  {
   "cell_type": "markdown",
   "source": "### Second Model - Gender and Age (train_test_split)",
   "metadata": {
    "collapsed": false
   },
   "id": "efd2934f0163f2ba"
  },
  {
   "cell_type": "code",
   "outputs": [],
   "source": [
    "from sklearn.ensemble import RandomForestClassifier\n",
    "from sklearn.model_selection import train_test_split\n",
    "\n",
    "variaveis = ['Sex_Binary', 'Age']\n",
    "X = train[variaveis]\n",
    "X = X.fillna(-1)\n",
    "\n",
    "y = train['Survived']\n",
    "\n",
    "X_train, X_test, y_train, y_test = train_test_split(X, y, test_size=0.5, random_state=0)"
   ],
   "metadata": {
    "collapsed": false,
    "ExecuteTime": {
     "end_time": "2024-03-20T11:08:37.956433900Z",
     "start_time": "2024-03-20T11:08:37.946379900Z"
    }
   },
   "id": "7dac7e41babe16eb",
   "execution_count": 23
  },
  {
   "cell_type": "code",
   "outputs": [],
   "source": [
    "modelo = RandomForestClassifier(n_estimators=100, n_jobs=-1, random_state=0)\n",
    "modelo.fit(X_train, y_train)\n",
    "\n",
    "y_previsto = modelo.predict(X_test)"
   ],
   "metadata": {
    "collapsed": false,
    "ExecuteTime": {
     "end_time": "2024-03-20T11:08:38.895049Z",
     "start_time": "2024-03-20T11:08:38.644531300Z"
    }
   },
   "id": "53a03f2da23093e4",
   "execution_count": 24
  },
  {
   "cell_type": "markdown",
   "source": [
    "Fazendo a acurácia que é a media dos acertos, y_test é o original e y_previsto é o que previ"
   ],
   "metadata": {
    "collapsed": false
   },
   "id": "4aa185293398afa8"
  },
  {
   "cell_type": "code",
   "outputs": [
    {
     "data": {
      "text/plain": "0.7690582959641256"
     },
     "execution_count": 25,
     "metadata": {},
     "output_type": "execute_result"
    }
   ],
   "source": [
    "np.mean(y_test == y_previsto)"
   ],
   "metadata": {
    "collapsed": false,
    "ExecuteTime": {
     "end_time": "2024-03-20T11:08:41.489627600Z",
     "start_time": "2024-03-20T11:08:41.468955400Z"
    }
   },
   "id": "8fa7bd9a4ae6b30",
   "execution_count": 25
  },
  {
   "cell_type": "markdown",
   "source": [
    "Fazendo o teste caso todas as mulheres sobrevivam"
   ],
   "metadata": {
    "collapsed": false
   },
   "id": "be1c45f753307f66"
  },
  {
   "cell_type": "code",
   "outputs": [
    {
     "data": {
      "text/plain": "0.7825112107623319"
     },
     "execution_count": 26,
     "metadata": {},
     "output_type": "execute_result"
    }
   ],
   "source": [
    "y_previsto = (X_test['Sex_Binary']==1).astype(np.int64)\n",
    "np.mean(y_test == y_previsto)"
   ],
   "metadata": {
    "collapsed": false,
    "ExecuteTime": {
     "end_time": "2024-03-20T11:08:43.231711200Z",
     "start_time": "2024-03-20T11:08:43.207137700Z"
    }
   },
   "id": "541c942143045bbf",
   "execution_count": 26
  },
  {
   "cell_type": "markdown",
   "source": [
    "## Validação Cruzada\n",
    "Entendendo que a definição de um seed pode interferir na acuracia do modelo, pois basta alterar a seed que o modelo muda, é necessário tratar essa aleatoriedade."
   ],
   "metadata": {
    "collapsed": false
   },
   "id": "b2f80f028aa036f1"
  },
  {
   "cell_type": "code",
   "outputs": [
    {
     "name": "stdout",
     "output_type": "stream",
     "text": [
      "Rep: 0\n",
      "Treino: 594\n",
      "Valid: 297\n",
      "Acc: 0.7609427609427609\n",
      "\n",
      "Treino: 594\n",
      "Valid: 297\n",
      "Acc: 0.7845117845117845\n",
      "\n",
      "Treino: 594\n",
      "Valid: 297\n",
      "Acc: 0.7643097643097643\n",
      "\n",
      "Rep: 1\n",
      "Treino: 594\n",
      "Valid: 297\n",
      "Acc: 0.7575757575757576\n",
      "\n",
      "Treino: 594\n",
      "Valid: 297\n",
      "Acc: 0.7710437710437711\n",
      "\n",
      "Treino: 594\n",
      "Valid: 297\n",
      "Acc: 0.7878787878787878\n",
      "\n",
      "Rep: 2\n",
      "Treino: 594\n",
      "Valid: 297\n",
      "Acc: 0.7474747474747475\n",
      "\n",
      "Treino: 594\n",
      "Valid: 297\n",
      "Acc: 0.7878787878787878\n",
      "\n",
      "Treino: 594\n",
      "Valid: 297\n",
      "Acc: 0.7777777777777778\n",
      "\n",
      "Rep: 3\n",
      "Treino: 594\n",
      "Valid: 297\n",
      "Acc: 0.7441077441077442\n",
      "\n",
      "Treino: 594\n",
      "Valid: 297\n",
      "Acc: 0.7508417508417509\n",
      "\n",
      "Treino: 594\n",
      "Valid: 297\n",
      "Acc: 0.7777777777777778\n",
      "\n",
      "Rep: 4\n",
      "Treino: 594\n",
      "Valid: 297\n",
      "Acc: 0.7710437710437711\n",
      "\n",
      "Treino: 594\n",
      "Valid: 297\n",
      "Acc: 0.7508417508417509\n",
      "\n",
      "Treino: 594\n",
      "Valid: 297\n",
      "Acc: 0.7373737373737373\n",
      "\n",
      "Rep: 5\n",
      "Treino: 594\n",
      "Valid: 297\n",
      "Acc: 0.7508417508417509\n",
      "\n",
      "Treino: 594\n",
      "Valid: 297\n",
      "Acc: 0.8215488215488216\n",
      "\n",
      "Treino: 594\n",
      "Valid: 297\n",
      "Acc: 0.7003367003367004\n",
      "\n",
      "Rep: 6\n",
      "Treino: 594\n",
      "Valid: 297\n",
      "Acc: 0.7508417508417509\n",
      "\n",
      "Treino: 594\n",
      "Valid: 297\n",
      "Acc: 0.7777777777777778\n",
      "\n",
      "Treino: 594\n",
      "Valid: 297\n",
      "Acc: 0.7306397306397306\n",
      "\n",
      "Rep: 7\n",
      "Treino: 594\n",
      "Valid: 297\n",
      "Acc: 0.7373737373737373\n",
      "\n",
      "Treino: 594\n",
      "Valid: 297\n",
      "Acc: 0.8047138047138047\n",
      "\n",
      "Treino: 594\n",
      "Valid: 297\n",
      "Acc: 0.7845117845117845\n",
      "\n",
      "Rep: 8\n",
      "Treino: 594\n",
      "Valid: 297\n",
      "Acc: 0.7912457912457912\n",
      "\n",
      "Treino: 594\n",
      "Valid: 297\n",
      "Acc: 0.7643097643097643\n",
      "\n",
      "Treino: 594\n",
      "Valid: 297\n",
      "Acc: 0.7575757575757576\n",
      "\n",
      "Rep: 9\n",
      "Treino: 594\n",
      "Valid: 297\n",
      "Acc: 0.7508417508417509\n",
      "\n",
      "Treino: 594\n",
      "Valid: 297\n",
      "Acc: 0.7542087542087542\n",
      "\n",
      "Treino: 594\n",
      "Valid: 297\n",
      "Acc: 0.7811447811447811\n"
     ]
    }
   ],
   "source": [
    "from sklearn.model_selection import KFold\n",
    "\n",
    "resultados = []\n",
    "for rep in range(10):\n",
    "    print(\"Rep:\", rep)\n",
    "    kf = KFold(3, shuffle=True, random_state=rep)\n",
    "    \n",
    "    for linhas_treino, linhas_valid in kf.split(X):\n",
    "        print(\"Treino:\", linhas_treino.shape[0])\n",
    "        print(\"Valid:\", linhas_valid.shape[0])\n",
    "\n",
    "        X_train, X_test = X.iloc[linhas_treino], X.iloc[linhas_valid]\n",
    "        y_train, y_test = y.iloc[linhas_treino], y.iloc[linhas_valid]\n",
    "\n",
    "        modelo = RandomForestClassifier(n_estimators=100, n_jobs=-1, random_state=0)\n",
    "        modelo.fit(X_train, y_train)\n",
    "\n",
    "        y_previsto = modelo.predict(X_test)\n",
    "\n",
    "        acc = np.mean(y_test == y_previsto)\n",
    "        resultados.append(acc)\n",
    "        print(\"Acc:\", acc)\n",
    "        print()\n"
   ],
   "metadata": {
    "collapsed": false,
    "ExecuteTime": {
     "end_time": "2024-03-20T11:41:35.944053900Z",
     "start_time": "2024-03-20T11:41:28.620295Z"
    }
   },
   "id": "973c62b21b645b26",
   "execution_count": 28
  },
  {
   "cell_type": "code",
   "outputs": [
    {
     "data": {
      "text/plain": "0.7643097643097645"
     },
     "execution_count": 31,
     "metadata": {},
     "output_type": "execute_result"
    }
   ],
   "source": [
    "np.mean(resultados)"
   ],
   "metadata": {
    "collapsed": false,
    "ExecuteTime": {
     "end_time": "2024-03-20T11:42:17.701427500Z",
     "start_time": "2024-03-20T11:42:17.685975800Z"
    }
   },
   "id": "41ea99a0eea8dc21",
   "execution_count": 31
  },
  {
   "cell_type": "markdown",
   "source": [
    "#### RepeatedKFold"
   ],
   "metadata": {
    "collapsed": false
   },
   "id": "5b04d58e63d15981"
  },
  {
   "cell_type": "code",
   "outputs": [
    {
     "name": "stdout",
     "output_type": "stream",
     "text": [
      "Treino: 445\n",
      "Valid: 446\n",
      "Acc: 0.7511210762331838\n",
      "\n",
      "Treino: 446\n",
      "Valid: 445\n",
      "Acc: 0.7617977528089888\n",
      "\n",
      "Treino: 445\n",
      "Valid: 446\n",
      "Acc: 0.7533632286995515\n",
      "\n",
      "Treino: 446\n",
      "Valid: 445\n",
      "Acc: 0.7595505617977528\n",
      "\n",
      "Treino: 445\n",
      "Valid: 446\n",
      "Acc: 0.7690582959641256\n",
      "\n",
      "Treino: 446\n",
      "Valid: 445\n",
      "Acc: 0.7573033707865169\n",
      "\n",
      "Treino: 445\n",
      "Valid: 446\n",
      "Acc: 0.7399103139013453\n",
      "\n",
      "Treino: 446\n",
      "Valid: 445\n",
      "Acc: 0.7595505617977528\n",
      "\n",
      "Treino: 445\n",
      "Valid: 446\n",
      "Acc: 0.7354260089686099\n",
      "\n",
      "Treino: 446\n",
      "Valid: 445\n",
      "Acc: 0.797752808988764\n",
      "\n",
      "Treino: 445\n",
      "Valid: 446\n",
      "Acc: 0.7690582959641256\n",
      "\n",
      "Treino: 446\n",
      "Valid: 445\n",
      "Acc: 0.7640449438202247\n",
      "\n",
      "Treino: 445\n",
      "Valid: 446\n",
      "Acc: 0.7757847533632287\n",
      "\n",
      "Treino: 446\n",
      "Valid: 445\n",
      "Acc: 0.7573033707865169\n",
      "\n",
      "Treino: 445\n",
      "Valid: 446\n",
      "Acc: 0.7556053811659192\n",
      "\n",
      "Treino: 446\n",
      "Valid: 445\n",
      "Acc: 0.7640449438202247\n",
      "\n",
      "Treino: 445\n",
      "Valid: 446\n",
      "Acc: 0.7443946188340808\n",
      "\n",
      "Treino: 446\n",
      "Valid: 445\n",
      "Acc: 0.7595505617977528\n",
      "\n",
      "Treino: 445\n",
      "Valid: 446\n",
      "Acc: 0.7533632286995515\n",
      "\n",
      "Treino: 446\n",
      "Valid: 445\n",
      "Acc: 0.7640449438202247\n"
     ]
    }
   ],
   "source": [
    "from sklearn.ensemble import RandomForestClassifier\n",
    "from sklearn.model_selection import RepeatedKFold\n",
    "\n",
    "resultados = []\n",
    "kf = RepeatedKFold(n_splits=2, n_repeats=10, random_state=10)\n",
    "    \n",
    "for linhas_treino, linhas_valid in kf.split(X):\n",
    "    print(\"Treino:\", linhas_treino.shape[0])\n",
    "    print(\"Valid:\", linhas_valid.shape[0])\n",
    "\n",
    "    X_train, X_test = X.iloc[linhas_treino], X.iloc[linhas_valid]\n",
    "    y_train, y_test = y.iloc[linhas_treino], y.iloc[linhas_valid]\n",
    "\n",
    "    modelo = RandomForestClassifier(n_estimators=100, n_jobs=-1, random_state=0)\n",
    "    modelo.fit(X_train, y_train)\n",
    "\n",
    "    y_previsto = modelo.predict(X_test)\n",
    "\n",
    "    acc = np.mean(y_test == y_previsto)\n",
    "    resultados.append(acc)\n",
    "    print(\"Acc:\", acc)\n",
    "    print()\n"
   ],
   "metadata": {
    "collapsed": false,
    "ExecuteTime": {
     "end_time": "2024-03-20T11:51:26.479033100Z",
     "start_time": "2024-03-20T11:51:19.888248300Z"
    }
   },
   "id": "6c20f8ace88184fe",
   "execution_count": 35
  },
  {
   "cell_type": "code",
   "outputs": [
    {
     "name": "stdout",
     "output_type": "stream",
     "text": [
      "%pylab is deprecated, use %matplotlib inline and import the required libraries.\n",
      "Populating the interactive namespace from numpy and matplotlib\n"
     ]
    }
   ],
   "source": [
    "%matplotlib inline\n",
    "%pylab inline"
   ],
   "metadata": {
    "collapsed": false,
    "ExecuteTime": {
     "end_time": "2024-03-20T11:52:02.981833800Z",
     "start_time": "2024-03-20T11:52:02.882905500Z"
    }
   },
   "id": "fb23c50264144a3e",
   "execution_count": 36
  },
  {
   "cell_type": "code",
   "outputs": [
    {
     "data": {
      "text/plain": "(array([2., 1., 3., 6., 4., 2., 1., 0., 0., 1.]),\n array([0.73542601, 0.74165869, 0.74789137, 0.75412405, 0.76035673,\n        0.76658941, 0.77282209, 0.77905477, 0.78528745, 0.79152013,\n        0.79775281]),\n <BarContainer object of 10 artists>)"
     },
     "execution_count": 37,
     "metadata": {},
     "output_type": "execute_result"
    },
    {
     "data": {
      "text/plain": "<Figure size 640x480 with 1 Axes>",
      "image/png": "[encoded data removed]"
     },
     "metadata": {},
     "output_type": "display_data"
    }
   ],
   "source": [
    "pylab.hist(resultados)"
   ],
   "metadata": {
    "collapsed": false,
    "ExecuteTime": {
     "end_time": "2024-03-20T11:52:16.975159600Z",
     "start_time": "2024-03-20T11:52:15.933277200Z"
    }
   },
   "id": "8db5907e49ce81f2",
   "execution_count": 37
  },
  {
   "cell_type": "code",
   "outputs": [
    {
     "data": {
      "text/plain": "0.759601451100922"
     },
     "execution_count": 39,
     "metadata": {},
     "output_type": "execute_result"
    }
   ],
   "source": [
    "np.mean(resultados)"
   ],
   "metadata": {
    "collapsed": false,
    "ExecuteTime": {
     "end_time": "2024-03-20T11:55:43.930523800Z",
     "start_time": "2024-03-20T11:55:43.899473Z"
    }
   },
   "id": "477a0f33cba4cf4d",
   "execution_count": 39
  },
  {
   "cell_type": "markdown",
   "source": "### Third Model - Others variables (RepeatedKFold)",
   "metadata": {
    "collapsed": false
   },
   "id": "a472d744bae6072a"
  },
  {
   "cell_type": "code",
   "outputs": [],
   "source": [
    "variaveis = ['Sex_Binary', 'Age', 'Pclass', 'SibSp', 'Parch', 'Fare']\n",
    "\n",
    "X = train[variaveis].fillna(-1)\n",
    "y = train['Survived']"
   ],
   "metadata": {
    "collapsed": false,
    "ExecuteTime": {
     "end_time": "2024-03-20T12:02:30.188061200Z",
     "start_time": "2024-03-20T12:02:30.169914800Z"
    }
   },
   "id": "546bca21a430ace4",
   "execution_count": 46
  },
  {
   "cell_type": "code",
   "outputs": [
    {
     "name": "stdout",
     "output_type": "stream",
     "text": [
      "Treino: 445\n",
      "Valid: 446\n",
      "Acc: 0.7869955156950673\n",
      "\n",
      "Treino: 446\n",
      "Valid: 445\n",
      "Acc: 0.7797752808988764\n",
      "\n",
      "Treino: 445\n",
      "Valid: 446\n",
      "Acc: 0.827354260089686\n",
      "\n",
      "Treino: 446\n",
      "Valid: 445\n",
      "Acc: 0.8179775280898877\n",
      "\n",
      "Treino: 445\n",
      "Valid: 446\n",
      "Acc: 0.7847533632286996\n",
      "\n",
      "Treino: 446\n",
      "Valid: 445\n",
      "Acc: 0.7842696629213484\n",
      "\n",
      "Treino: 445\n",
      "Valid: 446\n",
      "Acc: 0.8161434977578476\n",
      "\n",
      "Treino: 446\n",
      "Valid: 445\n",
      "Acc: 0.7842696629213484\n",
      "\n",
      "Treino: 445\n",
      "Valid: 446\n",
      "Acc: 0.8004484304932735\n",
      "\n",
      "Treino: 446\n",
      "Valid: 445\n",
      "Acc: 0.8\n",
      "\n",
      "Treino: 445\n",
      "Valid: 446\n",
      "Acc: 0.8183856502242153\n",
      "\n",
      "Treino: 446\n",
      "Valid: 445\n",
      "Acc: 0.802247191011236\n",
      "\n",
      "Treino: 445\n",
      "Valid: 446\n",
      "Acc: 0.8116591928251121\n",
      "\n",
      "Treino: 446\n",
      "Valid: 445\n",
      "Acc: 0.8067415730337079\n",
      "\n",
      "Treino: 445\n",
      "Valid: 446\n",
      "Acc: 0.820627802690583\n",
      "\n",
      "Treino: 446\n",
      "Valid: 445\n",
      "Acc: 0.7887640449438202\n",
      "\n",
      "Treino: 445\n",
      "Valid: 446\n",
      "Acc: 0.8385650224215246\n",
      "\n",
      "Treino: 446\n",
      "Valid: 445\n",
      "Acc: 0.8044943820224719\n",
      "\n",
      "Treino: 445\n",
      "Valid: 446\n",
      "Acc: 0.7982062780269058\n",
      "\n",
      "Treino: 446\n",
      "Valid: 445\n",
      "Acc: 0.8112359550561797\n"
     ]
    }
   ],
   "source": [
    "from sklearn.ensemble import RandomForestClassifier\n",
    "from sklearn.model_selection import RepeatedKFold\n",
    "\n",
    "resultados = []\n",
    "kf = RepeatedKFold(n_splits=2, n_repeats=10, random_state=10)\n",
    "    \n",
    "for linhas_treino, linhas_valid in kf.split(X):\n",
    "    print(\"Treino:\", linhas_treino.shape[0])\n",
    "    print(\"Valid:\", linhas_valid.shape[0])\n",
    "\n",
    "    X_train, X_test = X.iloc[linhas_treino], X.iloc[linhas_valid]\n",
    "    y_train, y_test = y.iloc[linhas_treino], y.iloc[linhas_valid]\n",
    "\n",
    "    modelo = RandomForestClassifier(n_estimators=100, n_jobs=-1, random_state=0)\n",
    "    modelo.fit(X_train, y_train)\n",
    "\n",
    "    y_previsto = modelo.predict(X_test)\n",
    "\n",
    "    acc = np.mean(y_test == y_previsto)\n",
    "    resultados.append(acc)\n",
    "    print(\"Acc:\", acc)\n",
    "    print()"
   ],
   "metadata": {
    "collapsed": false,
    "ExecuteTime": {
     "end_time": "2024-03-20T11:59:27.275697Z",
     "start_time": "2024-03-20T11:59:21.371710400Z"
    }
   },
   "id": "db230aa0e55400b2",
   "execution_count": 42
  },
  {
   "cell_type": "code",
   "outputs": [
    {
     "data": {
      "text/plain": "(array([4., 2., 0., 4., 2., 2., 4., 0., 1., 1.]),\n array([0.77977528, 0.78565426, 0.79153323, 0.7974122 , 0.80329118,\n        0.80917015, 0.81504913, 0.8209281 , 0.82680707, 0.83268605,\n        0.83856502]),\n <BarContainer object of 10 artists>)"
     },
     "execution_count": 43,
     "metadata": {},
     "output_type": "execute_result"
    },
    {
     "data": {
      "text/plain": "<Figure size 640x480 with 1 Axes>",
      "image/png": "[encoded data removed]"
     },
     "metadata": {},
     "output_type": "display_data"
    }
   ],
   "source": [
    "pylab.hist(resultados)"
   ],
   "metadata": {
    "collapsed": false,
    "ExecuteTime": {
     "end_time": "2024-03-20T11:59:42.366853200Z",
     "start_time": "2024-03-20T11:59:42.061193Z"
    }
   },
   "id": "f66a5a8512505406",
   "execution_count": 43
  },
  {
   "cell_type": "code",
   "outputs": [
    {
     "data": {
      "text/plain": "0.8041457147175896"
     },
     "execution_count": 44,
     "metadata": {},
     "output_type": "execute_result"
    }
   ],
   "source": [
    "np.mean(resultados)"
   ],
   "metadata": {
    "collapsed": false,
    "ExecuteTime": {
     "end_time": "2024-03-20T11:59:58.728767100Z",
     "start_time": "2024-03-20T11:59:58.571066Z"
    }
   },
   "id": "6956c159b8173610",
   "execution_count": 44
  },
  {
   "cell_type": "code",
   "outputs": [],
   "source": [
    "variaveis = ['Sex_Binary', 'Age', 'Pclass', 'SibSp', 'Parch', 'Fare']\n",
    "\n",
    "X = train[variaveis].fillna(-1)\n",
    "y = train['Survived']\n",
    "\n",
    "modelo = RandomForestClassifier(n_estimators=100, n_jobs=-1, random_state=0)\n",
    "modelo.fit(X, y)\n",
    "\n",
    "y_previsto = modelo.predict(test[variaveis].fillna(-1))"
   ],
   "metadata": {
    "collapsed": false,
    "ExecuteTime": {
     "end_time": "2024-03-20T13:14:18.996838100Z",
     "start_time": "2024-03-20T13:14:18.249387700Z"
    }
   },
   "id": "9195b5aed1890e02",
   "execution_count": 48
  },
  {
   "cell_type": "code",
   "outputs": [
    {
     "data": {
      "text/plain": "(418, 12)"
     },
     "execution_count": 53,
     "metadata": {},
     "output_type": "execute_result"
    }
   ],
   "source": [
    "test.shape"
   ],
   "metadata": {
    "collapsed": false,
    "ExecuteTime": {
     "end_time": "2024-03-20T13:18:17.209129Z",
     "start_time": "2024-03-20T13:18:17.188365600Z"
    }
   },
   "id": "b556d2762a0696b",
   "execution_count": 53
  },
  {
   "cell_type": "code",
   "outputs": [],
   "source": [
    "sub = pd.Series(y_previsto, index=test['PassengerId'], name='Survived')\n",
    "sub.to_csv('Arquivos/third_test.csv')"
   ],
   "metadata": {
    "collapsed": false,
    "ExecuteTime": {
     "end_time": "2024-03-20T13:18:49.284366400Z",
     "start_time": "2024-03-20T13:18:49.232243500Z"
    }
   },
   "id": "acf276a86536c5d4",
   "execution_count": 54
  },
  {
   "cell_type": "markdown",
   "source": [],
   "metadata": {
    "collapsed": false
   },
   "id": "462d8722e3ad7e60"
  },
  {
   "cell_type": "markdown",
   "source": "### Fourth Model - Variables text(RepeatedKFold)",
   "metadata": {
    "collapsed": false
   },
   "id": "476ff34a009fc88a"
  },
  {
   "cell_type": "markdown",
   "source": [
    "#### Analise de erro"
   ],
   "metadata": {
    "collapsed": false
   },
   "id": "90566ae874af1a33"
  },
  {
   "cell_type": "code",
   "outputs": [
    {
     "name": "stdout",
     "output_type": "stream",
     "text": [
      "Treino: 445\n",
      "Valid: 446\n",
      "Acc: 0.7869955156950673\n",
      "\n",
      "Treino: 446\n",
      "Valid: 445\n",
      "Acc: 0.7797752808988764\n",
      "\n",
      "Treino: 445\n",
      "Valid: 446\n",
      "Acc: 0.827354260089686\n",
      "\n",
      "Treino: 446\n",
      "Valid: 445\n",
      "Acc: 0.8179775280898877\n",
      "\n",
      "Treino: 445\n",
      "Valid: 446\n",
      "Acc: 0.7847533632286996\n",
      "\n",
      "Treino: 446\n",
      "Valid: 445\n",
      "Acc: 0.7842696629213484\n",
      "\n",
      "Treino: 445\n",
      "Valid: 446\n",
      "Acc: 0.8161434977578476\n",
      "\n",
      "Treino: 446\n",
      "Valid: 445\n",
      "Acc: 0.7842696629213484\n",
      "\n",
      "Treino: 445\n",
      "Valid: 446\n",
      "Acc: 0.8004484304932735\n",
      "\n",
      "Treino: 446\n",
      "Valid: 445\n",
      "Acc: 0.8\n",
      "\n",
      "Treino: 445\n",
      "Valid: 446\n",
      "Acc: 0.8183856502242153\n",
      "\n",
      "Treino: 446\n",
      "Valid: 445\n",
      "Acc: 0.802247191011236\n",
      "\n",
      "Treino: 445\n",
      "Valid: 446\n",
      "Acc: 0.8116591928251121\n",
      "\n",
      "Treino: 446\n",
      "Valid: 445\n",
      "Acc: 0.8067415730337079\n",
      "\n",
      "Treino: 445\n",
      "Valid: 446\n",
      "Acc: 0.820627802690583\n",
      "\n",
      "Treino: 446\n",
      "Valid: 445\n",
      "Acc: 0.7887640449438202\n",
      "\n",
      "Treino: 445\n",
      "Valid: 446\n",
      "Acc: 0.8385650224215246\n",
      "\n",
      "Treino: 446\n",
      "Valid: 445\n",
      "Acc: 0.8044943820224719\n",
      "\n",
      "Treino: 445\n",
      "Valid: 446\n",
      "Acc: 0.7982062780269058\n",
      "\n",
      "Treino: 446\n",
      "Valid: 445\n",
      "Acc: 0.8112359550561797\n"
     ]
    }
   ],
   "source": [
    "resultados = []\n",
    "kf = RepeatedKFold(n_splits=2, n_repeats=10, random_state=10)\n",
    "\n",
    "for linhas_train, linhas_test in kf.split(X):\n",
    "    print(\"Treino:\", linhas_train.shape[0])\n",
    "    print(\"Valid:\", linhas_test.shape[0])\n",
    "\n",
    "    X_train, X_test = X.iloc[linhas_train], X.iloc[linhas_test]\n",
    "    y_train, y_test = y.iloc[linhas_train], y.iloc[linhas_test]\n",
    "\n",
    "    modelo = RandomForestClassifier(n_estimators=100, n_jobs=-1, random_state=0)\n",
    "    modelo.fit(X_train, y_train)\n",
    "\n",
    "    y_previsto = modelo.predict(X_test)\n",
    "\n",
    "    acc = np.mean(y_test == y_previsto)\n",
    "    resultados.append(acc)\n",
    "    print(\"Acc:\", acc)\n",
    "    print()"
   ],
   "metadata": {
    "collapsed": false,
    "ExecuteTime": {
     "end_time": "2024-03-20T13:24:53.333764600Z",
     "start_time": "2024-03-20T13:24:48.820602Z"
    }
   },
   "id": "d6146e2d7ceaf990",
   "execution_count": 56
  },
  {
   "cell_type": "code",
   "outputs": [
    {
     "data": {
      "text/plain": "   PassengerId  Survived  Pclass  \\\n0            1         0       3   \n1            2         1       1   \n2            3         1       3   \n3            4         1       1   \n4            5         0       3   \n\n                                                Name     Sex   Age  SibSp  \\\n0                            Braund, Mr. Owen Harris    male  22.0      1   \n1  Cumings, Mrs. John Bradley (Florence Briggs Th...  female  38.0      1   \n2                             Heikkinen, Miss. Laina  female  26.0      0   \n3       Futrelle, Mrs. Jacques Heath (Lily May Peel)  female  35.0      1   \n4                           Allen, Mr. William Henry    male  35.0      0   \n\n   Parch            Ticket     Fare Cabin Embarked  Sex_Binary  y_previsto  \n0      0         A/5 21171   7.2500   NaN        S           0           0  \n1      0          PC 17599  71.2833   C85        C           1           1  \n2      0  STON/O2. 3101282   7.9250   NaN        S           1           0  \n3      0            113803  53.1000  C123        S           1           1  \n4      0            373450   8.0500   NaN        S           0           0  ",
      "text/html": "<div>\n<style scoped>\n    .dataframe tbody tr th:only-of-type {\n        vertical-align: middle;\n    }\n\n    .dataframe tbody tr th {\n        vertical-align: top;\n    }\n\n    .dataframe thead th {\n        text-align: right;\n    }\n</style>\n<table border=\"1\" class=\"dataframe\">\n  <thead>\n    <tr style=\"text-align: right;\">\n      <th></th>\n      <th>PassengerId</th>\n      <th>Survived</th>\n      <th>Pclass</th>\n      <th>Name</th>\n      <th>Sex</th>\n      <th>Age</th>\n      <th>SibSp</th>\n      <th>Parch</th>\n      <th>Ticket</th>\n      <th>Fare</th>\n      <th>Cabin</th>\n      <th>Embarked</th>\n      <th>Sex_Binary</th>\n      <th>y_previsto</th>\n    </tr>\n  </thead>\n  <tbody>\n    <tr>\n      <th>0</th>\n      <td>1</td>\n      <td>0</td>\n      <td>3</td>\n      <td>Braund, Mr. Owen Harris</td>\n      <td>male</td>\n      <td>22.0</td>\n      <td>1</td>\n      <td>0</td>\n      <td>A/5 21171</td>\n      <td>7.2500</td>\n      <td>NaN</td>\n      <td>S</td>\n      <td>0</td>\n      <td>0</td>\n    </tr>\n    <tr>\n      <th>1</th>\n      <td>2</td>\n      <td>1</td>\n      <td>1</td>\n      <td>Cumings, Mrs. John Bradley (Florence Briggs Th...</td>\n      <td>female</td>\n      <td>38.0</td>\n      <td>1</td>\n      <td>0</td>\n      <td>PC 17599</td>\n      <td>71.2833</td>\n      <td>C85</td>\n      <td>C</td>\n      <td>1</td>\n      <td>1</td>\n    </tr>\n    <tr>\n      <th>2</th>\n      <td>3</td>\n      <td>1</td>\n      <td>3</td>\n      <td>Heikkinen, Miss. Laina</td>\n      <td>female</td>\n      <td>26.0</td>\n      <td>0</td>\n      <td>0</td>\n      <td>STON/O2. 3101282</td>\n      <td>7.9250</td>\n      <td>NaN</td>\n      <td>S</td>\n      <td>1</td>\n      <td>0</td>\n    </tr>\n    <tr>\n      <th>3</th>\n      <td>4</td>\n      <td>1</td>\n      <td>1</td>\n      <td>Futrelle, Mrs. Jacques Heath (Lily May Peel)</td>\n      <td>female</td>\n      <td>35.0</td>\n      <td>1</td>\n      <td>0</td>\n      <td>113803</td>\n      <td>53.1000</td>\n      <td>C123</td>\n      <td>S</td>\n      <td>1</td>\n      <td>1</td>\n    </tr>\n    <tr>\n      <th>4</th>\n      <td>5</td>\n      <td>0</td>\n      <td>3</td>\n      <td>Allen, Mr. William Henry</td>\n      <td>male</td>\n      <td>35.0</td>\n      <td>0</td>\n      <td>0</td>\n      <td>373450</td>\n      <td>8.0500</td>\n      <td>NaN</td>\n      <td>S</td>\n      <td>0</td>\n      <td>0</td>\n    </tr>\n  </tbody>\n</table>\n</div>"
     },
     "execution_count": 58,
     "metadata": {},
     "output_type": "execute_result"
    }
   ],
   "source": [
    "X_test_check = train.iloc[linhas_test].copy()\n",
    "X_test_check['y_previsto'] = y_previsto\n",
    "X_test_check.head()"
   ],
   "metadata": {
    "collapsed": false,
    "ExecuteTime": {
     "end_time": "2024-03-20T13:25:18.720675400Z",
     "start_time": "2024-03-20T13:25:18.679653100Z"
    }
   },
   "id": "abceb346e067e1a6",
   "execution_count": 58
  },
  {
   "cell_type": "code",
   "outputs": [
    {
     "data": {
      "text/plain": "     PassengerId  Pclass                                               Name  \\\n2              3       3                             Heikkinen, Miss. Laina   \n21            22       2                              Beesley, Mr. Lawrence   \n22            23       3                        McGowan, Miss. Anna \"Annie\"   \n23            24       1                       Sloper, Mr. William Thompson   \n25            26       3  Asplund, Mrs. Carl Oscar (Selma Augusta Emilia...   \n..           ...     ...                                                ...   \n854          855       2      Carter, Mrs. Ernest Courtenay (Lilian Hughes)   \n855          856       3                         Aks, Mrs. Sam (Leah Rosen)   \n866          867       2                       Duran y More, Miss. Asuncion   \n882          883       3                       Dahlberg, Miss. Gerda Ulrika   \n888          889       3           Johnston, Miss. Catherine Helen \"Carrie\"   \n\n        Sex   Age  SibSp  Parch            Ticket     Fare Cabin Embarked  \\\n2    female  26.0      0      0  STON/O2. 3101282   7.9250   NaN        S   \n21     male  34.0      0      0            248698  13.0000   D56        S   \n22   female  15.0      0      0            330923   8.0292   NaN        Q   \n23     male  28.0      0      0            113788  35.5000    A6        S   \n25   female  38.0      1      5            347077  31.3875   NaN        S   \n..      ...   ...    ...    ...               ...      ...   ...      ...   \n854  female  44.0      1      0            244252  26.0000   NaN        S   \n855  female  18.0      0      1            392091   9.3500   NaN        S   \n866  female  27.0      1      0     SC/PARIS 2149  13.8583   NaN        C   \n882  female  22.0      0      0              7552  10.5167   NaN        S   \n888  female   NaN      1      2        W./C. 6607  23.4500   NaN        S   \n\n     Sex_Binary  y_previsto  Survived  \n2             1           0         1  \n21            0           0         1  \n22            1           0         1  \n23            0           0         1  \n25            1           0         1  \n..          ...         ...       ...  \n854           1           1         0  \n855           1           0         1  \n866           1           0         1  \n882           1           1         0  \n888           1           1         0  \n\n[84 rows x 14 columns]",
      "text/html": "<div>\n<style scoped>\n    .dataframe tbody tr th:only-of-type {\n        vertical-align: middle;\n    }\n\n    .dataframe tbody tr th {\n        vertical-align: top;\n    }\n\n    .dataframe thead th {\n        text-align: right;\n    }\n</style>\n<table border=\"1\" class=\"dataframe\">\n  <thead>\n    <tr style=\"text-align: right;\">\n      <th></th>\n      <th>PassengerId</th>\n      <th>Pclass</th>\n      <th>Name</th>\n      <th>Sex</th>\n      <th>Age</th>\n      <th>SibSp</th>\n      <th>Parch</th>\n      <th>Ticket</th>\n      <th>Fare</th>\n      <th>Cabin</th>\n      <th>Embarked</th>\n      <th>Sex_Binary</th>\n      <th>y_previsto</th>\n      <th>Survived</th>\n    </tr>\n  </thead>\n  <tbody>\n    <tr>\n      <th>2</th>\n      <td>3</td>\n      <td>3</td>\n      <td>Heikkinen, Miss. Laina</td>\n      <td>female</td>\n      <td>26.0</td>\n      <td>0</td>\n      <td>0</td>\n      <td>STON/O2. 3101282</td>\n      <td>7.9250</td>\n      <td>NaN</td>\n      <td>S</td>\n      <td>1</td>\n      <td>0</td>\n      <td>1</td>\n    </tr>\n    <tr>\n      <th>21</th>\n      <td>22</td>\n      <td>2</td>\n      <td>Beesley, Mr. Lawrence</td>\n      <td>male</td>\n      <td>34.0</td>\n      <td>0</td>\n      <td>0</td>\n      <td>248698</td>\n      <td>13.0000</td>\n      <td>D56</td>\n      <td>S</td>\n      <td>0</td>\n      <td>0</td>\n      <td>1</td>\n    </tr>\n    <tr>\n      <th>22</th>\n      <td>23</td>\n      <td>3</td>\n      <td>McGowan, Miss. Anna \"Annie\"</td>\n      <td>female</td>\n      <td>15.0</td>\n      <td>0</td>\n      <td>0</td>\n      <td>330923</td>\n      <td>8.0292</td>\n      <td>NaN</td>\n      <td>Q</td>\n      <td>1</td>\n      <td>0</td>\n      <td>1</td>\n    </tr>\n    <tr>\n      <th>23</th>\n      <td>24</td>\n      <td>1</td>\n      <td>Sloper, Mr. William Thompson</td>\n      <td>male</td>\n      <td>28.0</td>\n      <td>0</td>\n      <td>0</td>\n      <td>113788</td>\n      <td>35.5000</td>\n      <td>A6</td>\n      <td>S</td>\n      <td>0</td>\n      <td>0</td>\n      <td>1</td>\n    </tr>\n    <tr>\n      <th>25</th>\n      <td>26</td>\n      <td>3</td>\n      <td>Asplund, Mrs. Carl Oscar (Selma Augusta Emilia...</td>\n      <td>female</td>\n      <td>38.0</td>\n      <td>1</td>\n      <td>5</td>\n      <td>347077</td>\n      <td>31.3875</td>\n      <td>NaN</td>\n      <td>S</td>\n      <td>1</td>\n      <td>0</td>\n      <td>1</td>\n    </tr>\n    <tr>\n      <th>...</th>\n      <td>...</td>\n      <td>...</td>\n      <td>...</td>\n      <td>...</td>\n      <td>...</td>\n      <td>...</td>\n      <td>...</td>\n      <td>...</td>\n      <td>...</td>\n      <td>...</td>\n      <td>...</td>\n      <td>...</td>\n      <td>...</td>\n      <td>...</td>\n    </tr>\n    <tr>\n      <th>854</th>\n      <td>855</td>\n      <td>2</td>\n      <td>Carter, Mrs. Ernest Courtenay (Lilian Hughes)</td>\n      <td>female</td>\n      <td>44.0</td>\n      <td>1</td>\n      <td>0</td>\n      <td>244252</td>\n      <td>26.0000</td>\n      <td>NaN</td>\n      <td>S</td>\n      <td>1</td>\n      <td>1</td>\n      <td>0</td>\n    </tr>\n    <tr>\n      <th>855</th>\n      <td>856</td>\n      <td>3</td>\n      <td>Aks, Mrs. Sam (Leah Rosen)</td>\n      <td>female</td>\n      <td>18.0</td>\n      <td>0</td>\n      <td>1</td>\n      <td>392091</td>\n      <td>9.3500</td>\n      <td>NaN</td>\n      <td>S</td>\n      <td>1</td>\n      <td>0</td>\n      <td>1</td>\n    </tr>\n    <tr>\n      <th>866</th>\n      <td>867</td>\n      <td>2</td>\n      <td>Duran y More, Miss. Asuncion</td>\n      <td>female</td>\n      <td>27.0</td>\n      <td>1</td>\n      <td>0</td>\n      <td>SC/PARIS 2149</td>\n      <td>13.8583</td>\n      <td>NaN</td>\n      <td>C</td>\n      <td>1</td>\n      <td>0</td>\n      <td>1</td>\n    </tr>\n    <tr>\n      <th>882</th>\n      <td>883</td>\n      <td>3</td>\n      <td>Dahlberg, Miss. Gerda Ulrika</td>\n      <td>female</td>\n      <td>22.0</td>\n      <td>0</td>\n      <td>0</td>\n      <td>7552</td>\n      <td>10.5167</td>\n      <td>NaN</td>\n      <td>S</td>\n      <td>1</td>\n      <td>1</td>\n      <td>0</td>\n    </tr>\n    <tr>\n      <th>888</th>\n      <td>889</td>\n      <td>3</td>\n      <td>Johnston, Miss. Catherine Helen \"Carrie\"</td>\n      <td>female</td>\n      <td>NaN</td>\n      <td>1</td>\n      <td>2</td>\n      <td>W./C. 6607</td>\n      <td>23.4500</td>\n      <td>NaN</td>\n      <td>S</td>\n      <td>1</td>\n      <td>1</td>\n      <td>0</td>\n    </tr>\n  </tbody>\n</table>\n<p>84 rows × 14 columns</p>\n</div>"
     },
     "execution_count": 62,
     "metadata": {},
     "output_type": "execute_result"
    }
   ],
   "source": [
    "erros = X_test_check[X_test_check['Survived'] != X_test_check['y_previsto']]\n",
    "erros = erros[['PassengerId', 'Pclass', 'Name', 'Sex', 'Age', 'SibSp',\n",
    "       'Parch', 'Ticket', 'Fare', 'Cabin', 'Embarked', 'Sex_Binary', 'y_previsto', 'Survived']]\n",
    "erros"
   ],
   "metadata": {
    "collapsed": false,
    "ExecuteTime": {
     "end_time": "2024-03-20T13:28:14.803043100Z",
     "start_time": "2024-03-20T13:28:14.740995200Z"
    }
   },
   "id": "ece88478e8d83f0f",
   "execution_count": 62
  },
  {
   "cell_type": "code",
   "outputs": [],
   "source": [
    "woman = erros[erros['Sex'] == 'female']\n",
    "man = erros[erros['Sex'] == 'male']"
   ],
   "metadata": {
    "collapsed": false,
    "ExecuteTime": {
     "end_time": "2024-03-20T13:29:38.716388Z",
     "start_time": "2024-03-20T13:29:38.696105Z"
    }
   },
   "id": "a0f09ca4cdc49cf0",
   "execution_count": 63
  },
  {
   "cell_type": "markdown",
   "source": [
    "Incluindo demais variaveis"
   ],
   "metadata": {
    "collapsed": false
   },
   "id": "1fe66484aafa2b4c"
  },
  {
   "cell_type": "code",
   "outputs": [],
   "source": [
    "train['Embarked_S'] = (train['Embarked'] == 'S').astype(int)\n",
    "train['Embarked_C'] = (train['Embarked'] == 'C').astype(int)\n",
    "#train['Embarked_Q'] = (train['Embarked'] == 'Q').astype(int)\n",
    "\n",
    "train['Cabine_nula'] = train['Cabin'].isnull().astype(int)\n",
    "\n",
    "train['Nome_contem_Miss'] = train['Name'].str.contains(\"Miss\").astype(int)\n",
    "train['Nome_contem_Mrs'] = train['Name'].str.contains(\"Mrs\").astype(int)\n",
    "\n",
    "train['Nome_contem_Master'] = train['Name'].str.contains(\"Master\").astype(int)\n",
    "train['Nome_contem_Col'] = train['Name'].str.contains(\"Col\").astype(int)\n",
    "train['Nome_contem_Major'] = train['Name'].str.contains(\"Major\").astype(int)\n",
    "train['Nome_contem_Mr'] = train['Name'].str.contains(\"Mr\").astype(int)"
   ],
   "metadata": {
    "collapsed": false,
    "ExecuteTime": {
     "end_time": "2024-03-20T13:34:46.477422700Z",
     "start_time": "2024-03-20T13:34:46.421808300Z"
    }
   },
   "id": "582ce9885e783908",
   "execution_count": 65
  },
  {
   "cell_type": "code",
   "outputs": [],
   "source": [
    "variaveis = ['Sex_Binary', 'Age', 'Pclass', 'SibSp', 'Parch', 'Fare', 'Embarked_S', 'Embarked_C', 'Cabine_nula',\n",
    "             'Nome_contem_Miss', 'Nome_contem_Mrs',\n",
    "             'Nome_contem_Master', 'Nome_contem_Col', 'Nome_contem_Major', 'Nome_contem_Mr']\n",
    "\n",
    "X = train[variaveis].fillna(-1)\n",
    "y = train['Survived']"
   ],
   "metadata": {
    "collapsed": false,
    "ExecuteTime": {
     "end_time": "2024-03-20T13:35:05.675408500Z",
     "start_time": "2024-03-20T13:35:05.652922800Z"
    }
   },
   "id": "3dbc491a049d32cd",
   "execution_count": 66
  },
  {
   "cell_type": "code",
   "outputs": [
    {
     "name": "stdout",
     "output_type": "stream",
     "text": [
      "Treino: 445\n",
      "Valid: 446\n",
      "Acc: 0.7690582959641256\n",
      "\n",
      "Treino: 446\n",
      "Valid: 445\n",
      "Acc: 0.7910112359550562\n",
      "\n",
      "Treino: 445\n",
      "Valid: 446\n",
      "Acc: 0.8228699551569507\n",
      "\n",
      "Treino: 446\n",
      "Valid: 445\n",
      "Acc: 0.8\n",
      "\n",
      "Treino: 445\n",
      "Valid: 446\n",
      "Acc: 0.7982062780269058\n",
      "\n",
      "Treino: 446\n",
      "Valid: 445\n",
      "Acc: 0.802247191011236\n",
      "\n",
      "Treino: 445\n",
      "Valid: 446\n",
      "Acc: 0.8071748878923767\n",
      "\n",
      "Treino: 446\n",
      "Valid: 445\n",
      "Acc: 0.7910112359550562\n",
      "\n",
      "Treino: 445\n",
      "Valid: 446\n",
      "Acc: 0.8183856502242153\n",
      "\n",
      "Treino: 446\n",
      "Valid: 445\n",
      "Acc: 0.8112359550561797\n",
      "\n",
      "Treino: 445\n",
      "Valid: 446\n",
      "Acc: 0.8116591928251121\n",
      "\n",
      "Treino: 446\n",
      "Valid: 445\n",
      "Acc: 0.8067415730337079\n",
      "\n",
      "Treino: 445\n",
      "Valid: 446\n",
      "Acc: 0.8228699551569507\n",
      "\n",
      "Treino: 446\n",
      "Valid: 445\n",
      "Acc: 0.8112359550561797\n",
      "\n",
      "Treino: 445\n",
      "Valid: 446\n",
      "Acc: 0.7825112107623319\n",
      "\n",
      "Treino: 446\n",
      "Valid: 445\n",
      "Acc: 0.802247191011236\n",
      "\n",
      "Treino: 445\n",
      "Valid: 446\n",
      "Acc: 0.827354260089686\n",
      "\n",
      "Treino: 446\n",
      "Valid: 445\n",
      "Acc: 0.8089887640449438\n",
      "\n",
      "Treino: 445\n",
      "Valid: 446\n",
      "Acc: 0.8071748878923767\n",
      "\n",
      "Treino: 446\n",
      "Valid: 445\n",
      "Acc: 0.8089887640449438\n"
     ]
    }
   ],
   "source": [
    "resultados2 = []\n",
    "kf = RepeatedKFold(n_splits=2, n_repeats=10, random_state=10)\n",
    "\n",
    "for linhas_train, linhas_test in kf.split(X):\n",
    "    print(\"Treino:\", linhas_train.shape[0])\n",
    "    print(\"Valid:\", linhas_test.shape[0])\n",
    "\n",
    "    X_train, X_test= X.iloc[linhas_train], X.iloc[linhas_test]\n",
    "    y_train, y_test = y.iloc[linhas_train], y.iloc[linhas_test]\n",
    "    \n",
    "    modelo = RandomForestClassifier(n_estimators=100, n_jobs=-1, random_state=0)\n",
    "    \n",
    "    modelo.fit(X_train, y_train)\n",
    "\n",
    "    y_previsto = modelo.predict(X_test)\n",
    "\n",
    "    acc = np.mean(y_test == y_previsto)\n",
    "    resultados2.append(acc)\n",
    "    print(\"Acc:\", acc)\n",
    "    print()"
   ],
   "metadata": {
    "collapsed": false,
    "ExecuteTime": {
     "end_time": "2024-03-20T14:18:35.782876700Z",
     "start_time": "2024-03-20T14:18:30.562092600Z"
    }
   },
   "id": "f5141c17b4d89dd7",
   "execution_count": 100
  },
  {
   "cell_type": "code",
   "outputs": [
    {
     "data": {
      "text/plain": "((array([1., 0., 1., 2., 0., 4., 5., 3., 1., 3.]),\n  array([0.7690583 , 0.77488789, 0.78071749, 0.78654709, 0.79237668,\n         0.79820628, 0.80403587, 0.80986547, 0.81569507, 0.82152466,\n         0.82735426]),\n  <BarContainer object of 10 artists>),\n (array([4., 2., 0., 4., 2., 2., 4., 0., 1., 1.]),\n  array([0.77977528, 0.78565426, 0.79153323, 0.7974122 , 0.80329118,\n         0.80917015, 0.81504913, 0.8209281 , 0.82680707, 0.83268605,\n         0.83856502]),\n  <BarContainer object of 10 artists>))"
     },
     "execution_count": 82,
     "metadata": {},
     "output_type": "execute_result"
    },
    {
     "data": {
      "text/plain": "<Figure size 640x480 with 1 Axes>",
      "image/png": "[encoded data removed]"
     },
     "metadata": {},
     "output_type": "display_data"
    }
   ],
   "source": [
    "pylab.hist(resultados2), pylab.hist(resultados,alpha=0.8)"
   ],
   "metadata": {
    "collapsed": false,
    "ExecuteTime": {
     "end_time": "2024-03-20T13:43:00.273803800Z",
     "start_time": "2024-03-20T13:42:59.967245100Z"
    }
   },
   "id": "f4c6f4f9a0b0a847",
   "execution_count": 82
  },
  {
   "cell_type": "code",
   "outputs": [
    {
     "data": {
      "text/plain": "0.8050486219579784"
     },
     "execution_count": 83,
     "metadata": {},
     "output_type": "execute_result"
    }
   ],
   "source": [
    "np.mean(resultados2)"
   ],
   "metadata": {
    "collapsed": false,
    "ExecuteTime": {
     "end_time": "2024-03-20T13:43:04.081688400Z",
     "start_time": "2024-03-20T13:43:04.020717400Z"
    }
   },
   "id": "fb2d6492f5adef93",
   "execution_count": 83
  },
  {
   "cell_type": "code",
   "outputs": [],
   "source": [
    "test['Embarked_S'] = (test['Embarked'] == 'S').astype(int)\n",
    "test['Embarked_C'] = (test['Embarked'] == 'C').astype(int)\n",
    "#test['Embarked_Q'] = (test['Embarked'] == 'Q').astype(int)\n",
    "\n",
    "test['Cabine_nula'] = (test['Cabin'].isnull()).astype(int)\n",
    "\n",
    "test['Nome_contem_Miss'] = test['Name'].str.contains(\"Miss\").astype(int)\n",
    "test['Nome_contem_Mrs'] = test['Name'].str.contains(\"Mrs\").astype(int)\n",
    "\n",
    "test['Nome_contem_Master'] = test['Name'].str.contains(\"Master\").astype(int)\n",
    "test['Nome_contem_Col'] = test['Name'].str.contains(\"Col\").astype(int)\n",
    "test['Nome_contem_Major'] = test['Name'].str.contains(\"Major\").astype(int)\n",
    "test['Nome_contem_Mr'] = test['Name'].str.contains(\"Mr\").astype(int)\n",
    "\n",
    "modelo = RandomForestClassifier(n_estimators=100, n_jobs=-1, random_state=0)\n",
    "modelo.fit(X, y)\n",
    "\n",
    "y_previsto = modelo.predict(test[variaveis].fillna(-1))"
   ],
   "metadata": {
    "collapsed": false,
    "ExecuteTime": {
     "end_time": "2024-03-20T13:43:10.602077400Z",
     "start_time": "2024-03-20T13:43:10.360904500Z"
    }
   },
   "id": "b8afc0d7ab6a0513",
   "execution_count": 84
  },
  {
   "cell_type": "code",
   "outputs": [
    {
     "data": {
      "text/plain": "(418,)"
     },
     "execution_count": 85,
     "metadata": {},
     "output_type": "execute_result"
    }
   ],
   "source": [
    "sub = pd.Series(y_previsto, index=test['PassengerId'], name='Survived')\n",
    "sub.to_csv(\"Arquivos/fourth_test.csv\", header=True)"
   ],
   "metadata": {
    "collapsed": false,
    "ExecuteTime": {
     "end_time": "2024-03-20T13:43:14.229419Z",
     "start_time": "2024-03-20T13:43:14.167397100Z"
    }
   },
   "id": "67d70c66aef69119",
   "execution_count": 85
  },
  {
   "cell_type": "markdown",
   "source": "### Fifth Model - Logistic Regression",
   "metadata": {
    "collapsed": false
   },
   "id": "5744158c2d7eef71"
  },
  {
   "cell_type": "code",
   "outputs": [
    {
     "name": "stdout",
     "output_type": "stream",
     "text": [
      "Treino: 445\n",
      "Valid: 446\n",
      "Acc: 0.8318385650224215\n",
      "\n",
      "Treino: 446\n",
      "Valid: 445\n",
      "Acc: 0.8067415730337079\n",
      "\n",
      "Treino: 445\n",
      "Valid: 446\n",
      "Acc: 0.8094170403587444\n",
      "\n",
      "Treino: 446\n",
      "Valid: 445\n",
      "Acc: 0.802247191011236\n",
      "\n",
      "Treino: 445\n",
      "Valid: 446\n",
      "Acc: 0.8161434977578476\n",
      "\n",
      "Treino: 446\n",
      "Valid: 445\n",
      "Acc: 0.8157303370786517\n",
      "\n",
      "Treino: 445\n",
      "Valid: 446\n"
     ]
    },
    {
     "name": "stderr",
     "output_type": "stream",
     "text": [
      "C:\\Users\\loany\\anaconda3\\Lib\\site-packages\\sklearn\\linear_model\\_logistic.py:460: ConvergenceWarning: lbfgs failed to converge (status=1):\n",
      "STOP: TOTAL NO. of ITERATIONS REACHED LIMIT.\n",
      "\n",
      "Increase the number of iterations (max_iter) or scale the data as shown in:\n",
      "    https://scikit-learn.org/stable/modules/preprocessing.html\n",
      "Please also refer to the documentation for alternative solver options:\n",
      "    https://scikit-learn.org/stable/modules/linear_model.html#logistic-regression\n",
      "  n_iter_i = _check_optimize_result(\n",
      "C:\\Users\\loany\\anaconda3\\Lib\\site-packages\\sklearn\\linear_model\\_logistic.py:460: ConvergenceWarning: lbfgs failed to converge (status=1):\n",
      "STOP: TOTAL NO. of ITERATIONS REACHED LIMIT.\n",
      "\n",
      "Increase the number of iterations (max_iter) or scale the data as shown in:\n",
      "    https://scikit-learn.org/stable/modules/preprocessing.html\n",
      "Please also refer to the documentation for alternative solver options:\n",
      "    https://scikit-learn.org/stable/modules/linear_model.html#logistic-regression\n",
      "  n_iter_i = _check_optimize_result(\n",
      "C:\\Users\\loany\\anaconda3\\Lib\\site-packages\\sklearn\\linear_model\\_logistic.py:460: ConvergenceWarning: lbfgs failed to converge (status=1):\n",
      "STOP: TOTAL NO. of ITERATIONS REACHED LIMIT.\n",
      "\n",
      "Increase the number of iterations (max_iter) or scale the data as shown in:\n",
      "    https://scikit-learn.org/stable/modules/preprocessing.html\n",
      "Please also refer to the documentation for alternative solver options:\n",
      "    https://scikit-learn.org/stable/modules/linear_model.html#logistic-regression\n",
      "  n_iter_i = _check_optimize_result(\n",
      "C:\\Users\\loany\\anaconda3\\Lib\\site-packages\\sklearn\\linear_model\\_logistic.py:460: ConvergenceWarning: lbfgs failed to converge (status=1):\n",
      "STOP: TOTAL NO. of ITERATIONS REACHED LIMIT.\n",
      "\n",
      "Increase the number of iterations (max_iter) or scale the data as shown in:\n",
      "    https://scikit-learn.org/stable/modules/preprocessing.html\n",
      "Please also refer to the documentation for alternative solver options:\n",
      "    https://scikit-learn.org/stable/modules/linear_model.html#logistic-regression\n",
      "  n_iter_i = _check_optimize_result(\n",
      "C:\\Users\\loany\\anaconda3\\Lib\\site-packages\\sklearn\\linear_model\\_logistic.py:460: ConvergenceWarning: lbfgs failed to converge (status=1):\n",
      "STOP: TOTAL NO. of ITERATIONS REACHED LIMIT.\n",
      "\n",
      "Increase the number of iterations (max_iter) or scale the data as shown in:\n",
      "    https://scikit-learn.org/stable/modules/preprocessing.html\n",
      "Please also refer to the documentation for alternative solver options:\n",
      "    https://scikit-learn.org/stable/modules/linear_model.html#logistic-regression\n",
      "  n_iter_i = _check_optimize_result(\n",
      "C:\\Users\\loany\\anaconda3\\Lib\\site-packages\\sklearn\\linear_model\\_logistic.py:460: ConvergenceWarning: lbfgs failed to converge (status=1):\n",
      "STOP: TOTAL NO. of ITERATIONS REACHED LIMIT.\n",
      "\n",
      "Increase the number of iterations (max_iter) or scale the data as shown in:\n",
      "    https://scikit-learn.org/stable/modules/preprocessing.html\n",
      "Please also refer to the documentation for alternative solver options:\n",
      "    https://scikit-learn.org/stable/modules/linear_model.html#logistic-regression\n",
      "  n_iter_i = _check_optimize_result(\n",
      "C:\\Users\\loany\\anaconda3\\Lib\\site-packages\\sklearn\\linear_model\\_logistic.py:460: ConvergenceWarning: lbfgs failed to converge (status=1):\n",
      "STOP: TOTAL NO. of ITERATIONS REACHED LIMIT.\n",
      "\n",
      "Increase the number of iterations (max_iter) or scale the data as shown in:\n",
      "    https://scikit-learn.org/stable/modules/preprocessing.html\n",
      "Please also refer to the documentation for alternative solver options:\n",
      "    https://scikit-learn.org/stable/modules/linear_model.html#logistic-regression\n",
      "  n_iter_i = _check_optimize_result(\n",
      "C:\\Users\\loany\\anaconda3\\Lib\\site-packages\\sklearn\\linear_model\\_logistic.py:460: ConvergenceWarning: lbfgs failed to converge (status=1):\n",
      "STOP: TOTAL NO. of ITERATIONS REACHED LIMIT.\n",
      "\n",
      "Increase the number of iterations (max_iter) or scale the data as shown in:\n",
      "    https://scikit-learn.org/stable/modules/preprocessing.html\n",
      "Please also refer to the documentation for alternative solver options:\n",
      "    https://scikit-learn.org/stable/modules/linear_model.html#logistic-regression\n",
      "  n_iter_i = _check_optimize_result(\n",
      "C:\\Users\\loany\\anaconda3\\Lib\\site-packages\\sklearn\\linear_model\\_logistic.py:460: ConvergenceWarning: lbfgs failed to converge (status=1):\n",
      "STOP: TOTAL NO. of ITERATIONS REACHED LIMIT.\n",
      "\n",
      "Increase the number of iterations (max_iter) or scale the data as shown in:\n",
      "    https://scikit-learn.org/stable/modules/preprocessing.html\n",
      "Please also refer to the documentation for alternative solver options:\n",
      "    https://scikit-learn.org/stable/modules/linear_model.html#logistic-regression\n",
      "  n_iter_i = _check_optimize_result(\n",
      "C:\\Users\\loany\\anaconda3\\Lib\\site-packages\\sklearn\\linear_model\\_logistic.py:460: ConvergenceWarning: lbfgs failed to converge (status=1):\n",
      "STOP: TOTAL NO. of ITERATIONS REACHED LIMIT.\n",
      "\n",
      "Increase the number of iterations (max_iter) or scale the data as shown in:\n",
      "    https://scikit-learn.org/stable/modules/preprocessing.html\n",
      "Please also refer to the documentation for alternative solver options:\n",
      "    https://scikit-learn.org/stable/modules/linear_model.html#logistic-regression\n",
      "  n_iter_i = _check_optimize_result(\n",
      "C:\\Users\\loany\\anaconda3\\Lib\\site-packages\\sklearn\\linear_model\\_logistic.py:460: ConvergenceWarning: lbfgs failed to converge (status=1):\n",
      "STOP: TOTAL NO. of ITERATIONS REACHED LIMIT.\n",
      "\n",
      "Increase the number of iterations (max_iter) or scale the data as shown in:\n",
      "    https://scikit-learn.org/stable/modules/preprocessing.html\n",
      "Please also refer to the documentation for alternative solver options:\n",
      "    https://scikit-learn.org/stable/modules/linear_model.html#logistic-regression\n",
      "  n_iter_i = _check_optimize_result(\n",
      "C:\\Users\\loany\\anaconda3\\Lib\\site-packages\\sklearn\\linear_model\\_logistic.py:460: ConvergenceWarning: lbfgs failed to converge (status=1):\n",
      "STOP: TOTAL NO. of ITERATIONS REACHED LIMIT.\n",
      "\n",
      "Increase the number of iterations (max_iter) or scale the data as shown in:\n",
      "    https://scikit-learn.org/stable/modules/preprocessing.html\n",
      "Please also refer to the documentation for alternative solver options:\n",
      "    https://scikit-learn.org/stable/modules/linear_model.html#logistic-regression\n",
      "  n_iter_i = _check_optimize_result(\n",
      "C:\\Users\\loany\\anaconda3\\Lib\\site-packages\\sklearn\\linear_model\\_logistic.py:460: ConvergenceWarning: lbfgs failed to converge (status=1):\n",
      "STOP: TOTAL NO. of ITERATIONS REACHED LIMIT.\n",
      "\n",
      "Increase the number of iterations (max_iter) or scale the data as shown in:\n",
      "    https://scikit-learn.org/stable/modules/preprocessing.html\n",
      "Please also refer to the documentation for alternative solver options:\n",
      "    https://scikit-learn.org/stable/modules/linear_model.html#logistic-regression\n",
      "  n_iter_i = _check_optimize_result(\n"
     ]
    },
    {
     "name": "stdout",
     "output_type": "stream",
     "text": [
      "Acc: 0.820627802690583\n",
      "\n",
      "Treino: 446\n",
      "Valid: 445\n",
      "Acc: 0.8089887640449438\n",
      "\n",
      "Treino: 445\n",
      "Valid: 446\n",
      "Acc: 0.8183856502242153\n",
      "\n",
      "Treino: 446\n",
      "Valid: 445\n",
      "Acc: 0.8179775280898877\n",
      "\n",
      "Treino: 445\n",
      "Valid: 446\n",
      "Acc: 0.8228699551569507\n",
      "\n",
      "Treino: 446\n",
      "Valid: 445\n",
      "Acc: 0.8157303370786517\n",
      "\n",
      "Treino: 445\n",
      "Valid: 446\n",
      "Acc: 0.8408071748878924\n",
      "\n",
      "Treino: 446\n",
      "Valid: 445\n"
     ]
    },
    {
     "name": "stderr",
     "output_type": "stream",
     "text": [
      "C:\\Users\\loany\\anaconda3\\Lib\\site-packages\\sklearn\\linear_model\\_logistic.py:460: ConvergenceWarning: lbfgs failed to converge (status=1):\n",
      "STOP: TOTAL NO. of ITERATIONS REACHED LIMIT.\n",
      "\n",
      "Increase the number of iterations (max_iter) or scale the data as shown in:\n",
      "    https://scikit-learn.org/stable/modules/preprocessing.html\n",
      "Please also refer to the documentation for alternative solver options:\n",
      "    https://scikit-learn.org/stable/modules/linear_model.html#logistic-regression\n",
      "  n_iter_i = _check_optimize_result(\n",
      "C:\\Users\\loany\\anaconda3\\Lib\\site-packages\\sklearn\\linear_model\\_logistic.py:460: ConvergenceWarning: lbfgs failed to converge (status=1):\n",
      "STOP: TOTAL NO. of ITERATIONS REACHED LIMIT.\n",
      "\n",
      "Increase the number of iterations (max_iter) or scale the data as shown in:\n",
      "    https://scikit-learn.org/stable/modules/preprocessing.html\n",
      "Please also refer to the documentation for alternative solver options:\n",
      "    https://scikit-learn.org/stable/modules/linear_model.html#logistic-regression\n",
      "  n_iter_i = _check_optimize_result(\n",
      "C:\\Users\\loany\\anaconda3\\Lib\\site-packages\\sklearn\\linear_model\\_logistic.py:460: ConvergenceWarning: lbfgs failed to converge (status=1):\n",
      "STOP: TOTAL NO. of ITERATIONS REACHED LIMIT.\n",
      "\n",
      "Increase the number of iterations (max_iter) or scale the data as shown in:\n",
      "    https://scikit-learn.org/stable/modules/preprocessing.html\n",
      "Please also refer to the documentation for alternative solver options:\n",
      "    https://scikit-learn.org/stable/modules/linear_model.html#logistic-regression\n",
      "  n_iter_i = _check_optimize_result(\n",
      "C:\\Users\\loany\\anaconda3\\Lib\\site-packages\\sklearn\\linear_model\\_logistic.py:460: ConvergenceWarning: lbfgs failed to converge (status=1):\n",
      "STOP: TOTAL NO. of ITERATIONS REACHED LIMIT.\n",
      "\n",
      "Increase the number of iterations (max_iter) or scale the data as shown in:\n",
      "    https://scikit-learn.org/stable/modules/preprocessing.html\n",
      "Please also refer to the documentation for alternative solver options:\n",
      "    https://scikit-learn.org/stable/modules/linear_model.html#logistic-regression\n",
      "  n_iter_i = _check_optimize_result(\n",
      "C:\\Users\\loany\\anaconda3\\Lib\\site-packages\\sklearn\\linear_model\\_logistic.py:460: ConvergenceWarning: lbfgs failed to converge (status=1):\n",
      "STOP: TOTAL NO. of ITERATIONS REACHED LIMIT.\n",
      "\n",
      "Increase the number of iterations (max_iter) or scale the data as shown in:\n",
      "    https://scikit-learn.org/stable/modules/preprocessing.html\n",
      "Please also refer to the documentation for alternative solver options:\n",
      "    https://scikit-learn.org/stable/modules/linear_model.html#logistic-regression\n",
      "  n_iter_i = _check_optimize_result(\n",
      "C:\\Users\\loany\\anaconda3\\Lib\\site-packages\\sklearn\\linear_model\\_logistic.py:460: ConvergenceWarning: lbfgs failed to converge (status=1):\n",
      "STOP: TOTAL NO. of ITERATIONS REACHED LIMIT.\n",
      "\n",
      "Increase the number of iterations (max_iter) or scale the data as shown in:\n",
      "    https://scikit-learn.org/stable/modules/preprocessing.html\n",
      "Please also refer to the documentation for alternative solver options:\n",
      "    https://scikit-learn.org/stable/modules/linear_model.html#logistic-regression\n",
      "  n_iter_i = _check_optimize_result(\n"
     ]
    },
    {
     "name": "stdout",
     "output_type": "stream",
     "text": [
      "Acc: 0.802247191011236\n",
      "\n",
      "Treino: 445\n",
      "Valid: 446\n",
      "Acc: 0.8094170403587444\n",
      "\n",
      "Treino: 446\n",
      "Valid: 445\n",
      "Acc: 0.8\n",
      "\n",
      "Treino: 445\n",
      "Valid: 446\n",
      "Acc: 0.8385650224215246\n",
      "\n",
      "Treino: 446\n",
      "Valid: 445\n",
      "Acc: 0.8179775280898877\n",
      "\n",
      "Treino: 445\n",
      "Valid: 446\n",
      "Acc: 0.8340807174887892\n",
      "\n",
      "Treino: 446\n",
      "Valid: 445\n",
      "Acc: 0.8269662921348314\n"
     ]
    },
    {
     "name": "stderr",
     "output_type": "stream",
     "text": [
      "C:\\Users\\loany\\anaconda3\\Lib\\site-packages\\sklearn\\linear_model\\_logistic.py:460: ConvergenceWarning: lbfgs failed to converge (status=1):\n",
      "STOP: TOTAL NO. of ITERATIONS REACHED LIMIT.\n",
      "\n",
      "Increase the number of iterations (max_iter) or scale the data as shown in:\n",
      "    https://scikit-learn.org/stable/modules/preprocessing.html\n",
      "Please also refer to the documentation for alternative solver options:\n",
      "    https://scikit-learn.org/stable/modules/linear_model.html#logistic-regression\n",
      "  n_iter_i = _check_optimize_result(\n"
     ]
    }
   ],
   "source": [
    "from sklearn.linear_model import LogisticRegression\n",
    "resultados3 = []\n",
    "kf = RepeatedKFold(n_splits=2, n_repeats=10, random_state=10)\n",
    "\n",
    "for linhas_train, linhas_test in kf.split(X):\n",
    "    print(\"Treino:\", linhas_train.shape[0])\n",
    "    print(\"Valid:\", linhas_test.shape[0])\n",
    "\n",
    "    X_train, X_test= X.iloc[linhas_train], X.iloc[linhas_test]\n",
    "    y_train, y_test = y.iloc[linhas_train], y.iloc[linhas_test]\n",
    "\n",
    "    modelo = LogisticRegression()\n",
    "    \n",
    "    modelo.fit(X_train, y_train)\n",
    "\n",
    "    y_previsto = modelo.predict(X_test)\n",
    "\n",
    "    acc = np.mean(y_test == y_previsto)\n",
    "    resultados3.append(acc)\n",
    "    print(\"Acc:\", acc)\n",
    "    print()"
   ],
   "metadata": {
    "collapsed": false,
    "ExecuteTime": {
     "end_time": "2024-03-20T13:49:12.716881400Z",
     "start_time": "2024-03-20T13:49:12.009080900Z"
    }
   },
   "id": "3a46c21a93fc97db",
   "execution_count": 92
  },
  {
   "cell_type": "code",
   "outputs": [
    {
     "data": {
      "text/plain": "((array([3., 1., 3., 3., 3., 2., 1., 1., 1., 2.]),\n  array([0.8       , 0.80408072, 0.80816143, 0.81224215, 0.81632287,\n         0.82040359, 0.8244843 , 0.82856502, 0.83264574, 0.83672646,\n         0.84080717]),\n  <BarContainer object of 10 artists>),\n (array([1., 0., 1., 2., 0., 4., 5., 3., 1., 3.]),\n  array([0.7690583 , 0.77488789, 0.78071749, 0.78654709, 0.79237668,\n         0.79820628, 0.80403587, 0.80986547, 0.81569507, 0.82152466,\n         0.82735426]),\n  <BarContainer object of 10 artists>))"
     },
     "execution_count": 93,
     "metadata": {},
     "output_type": "execute_result"
    },
    {
     "data": {
      "text/plain": "<Figure size 640x480 with 1 Axes>",
      "image/png": "[encoded data removed]"
     },
     "metadata": {},
     "output_type": "display_data"
    }
   ],
   "source": [
    "pylab.hist(resultados3), pylab.hist(resultados2,alpha=0.8)"
   ],
   "metadata": {
    "collapsed": false,
    "ExecuteTime": {
     "end_time": "2024-03-20T13:49:19.276541600Z",
     "start_time": "2024-03-20T13:49:18.951808200Z"
    }
   },
   "id": "2ad36ac80cf1d6a8",
   "execution_count": 93
  },
  {
   "cell_type": "code",
   "outputs": [
    {
     "data": {
      "text/plain": "0.8178379603970374"
     },
     "execution_count": 94,
     "metadata": {},
     "output_type": "execute_result"
    }
   ],
   "source": [
    "np.mean(resultados3)"
   ],
   "metadata": {
    "collapsed": false,
    "ExecuteTime": {
     "end_time": "2024-03-20T13:49:22.399852800Z",
     "start_time": "2024-03-20T13:49:22.292545100Z"
    }
   },
   "id": "c9c0f2b7b65e4432",
   "execution_count": 94
  },
  {
   "cell_type": "code",
   "outputs": [
    {
     "name": "stderr",
     "output_type": "stream",
     "text": [
      "C:\\Users\\loany\\anaconda3\\Lib\\site-packages\\sklearn\\linear_model\\_logistic.py:460: ConvergenceWarning: lbfgs failed to converge (status=1):\n",
      "STOP: TOTAL NO. of ITERATIONS REACHED LIMIT.\n",
      "\n",
      "Increase the number of iterations (max_iter) or scale the data as shown in:\n",
      "    https://scikit-learn.org/stable/modules/preprocessing.html\n",
      "Please also refer to the documentation for alternative solver options:\n",
      "    https://scikit-learn.org/stable/modules/linear_model.html#logistic-regression\n",
      "  n_iter_i = _check_optimize_result(\n"
     ]
    }
   ],
   "source": [
    "test['Embarked_S'] = (test['Embarked'] == 'S').astype(int)\n",
    "test['Embarked_C'] = (test['Embarked'] == 'C').astype(int)\n",
    "#test['Embarked_Q'] = (test['Embarked'] == 'Q').astype(int)\n",
    "\n",
    "test['Cabine_nula'] = (test['Cabin'].isnull()).astype(int)\n",
    "\n",
    "test['Nome_contem_Miss'] = test['Name'].str.contains(\"Miss\").astype(int)\n",
    "test['Nome_contem_Mrs'] = test['Name'].str.contains(\"Mrs\").astype(int)\n",
    "\n",
    "test['Nome_contem_Master'] = test['Name'].str.contains(\"Master\").astype(int)\n",
    "test['Nome_contem_Col'] = test['Name'].str.contains(\"Col\").astype(int)\n",
    "test['Nome_contem_Major'] = test['Name'].str.contains(\"Major\").astype(int)\n",
    "test['Nome_contem_Mr'] = test['Name'].str.contains(\"Mr\").astype(int)\n",
    "\n",
    "modelo = LogisticRegression()\n",
    "modelo.fit(X, y)\n",
    "\n",
    "y_previsto = modelo.predict(test[variaveis].fillna(-1))"
   ],
   "metadata": {
    "collapsed": false,
    "ExecuteTime": {
     "end_time": "2024-03-20T13:49:24.598355400Z",
     "start_time": "2024-03-20T13:49:24.368484100Z"
    }
   },
   "id": "ae582bfe9456a80f",
   "execution_count": 95
  },
  {
   "cell_type": "code",
   "outputs": [],
   "source": [
    "sub = pd.Series(y_previsto, index=test['PassengerId'], name='Survived')\n",
    "sub.to_csv(\"Arquivos/fifth_test.csv\", header=True)"
   ],
   "metadata": {
    "collapsed": false,
    "ExecuteTime": {
     "end_time": "2024-03-20T13:49:27.313630400Z",
     "start_time": "2024-03-20T13:49:27.213751Z"
    }
   },
   "id": "d1a18bca98c23f45",
   "execution_count": 96
  }
 ],
 "metadata": {
  "kernelspec": {
   "display_name": "Python 3",
   "language": "python",
   "name": "python3"
  },
  "language_info": {
   "codemirror_mode": {
    "name": "ipython",
    "version": 2
   },
   "file_extension": ".py",
   "mimetype": "text/x-python",
   "name": "python",
   "nbconvert_exporter": "python",
   "pygments_lexer": "ipython2",
   "version": "2.7.6"
  }
 },
 "nbformat": 4,
 "nbformat_minor": 5
}
